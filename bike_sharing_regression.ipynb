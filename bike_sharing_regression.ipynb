{
 "cells": [
  {
   "cell_type": "markdown",
   "metadata": {},
   "source": [
    "## **Predicting Bike Sharing Demand with Regression Models** \n",
    "---\n",
    "By Aditya Nugraha"
   ]
  },
  {
   "cell_type": "markdown",
   "metadata": {},
   "source": [
    "<!-- ![image: https://www.freepik.com/vectors/ride-bicycle](assets/5243.jpg) -->\n",
    "<img src=\"assets/5243.jpg\" alt=\"image: https://www.freepik.com/vectors/ride-bicycle\"/>\n",
    "\n",
    "*Image Source: https://www.freepik.com/vectors/ride-bicycle*"
   ]
  },
  {
   "cell_type": "markdown",
   "metadata": {},
   "source": [
    "### **Contents**\n",
    "---\n",
    "\n",
    "1. Business Problem Understanding\n",
    "2. Data Understanding\n",
    "3. EDA & Feature Engineering\n",
    "4. Modeling\n",
    "5. Conclusion\n",
    "6. Recommendation\n",
    "7. Save Model"
   ]
  },
  {
   "cell_type": "markdown",
   "metadata": {},
   "source": [
    "### **Business Problem Understanding**\n",
    "---"
   ]
  },
  {
   "cell_type": "markdown",
   "metadata": {},
   "source": [
    "**Context**\n",
    "\n",
    "Sistem penyewaan sepeda adalah sarana penyewaan sepeda dimana proses mendapatkan keanggotaan, sewa, dan pengembalian sepeda secara mandiri melalui jaringan lokasi seperti kios di seluruh kota. Dengan menggunakan sistem ini, orang dapat menyewa sepeda dari satu lokasi dan mengembalikannya ke lokasi lain sesuai kebutuhan. Menurut data yang di rilis pada situs [Statista.com](https://www.statista.com/chart/14542/bike-sharing-programs-worldwide/) Hingga pertengahan tahun 2018, ada sekitar 1600 program penyewaan sepeda dengan 18,2 juta sepeda di lebih dari 1000 kota.\n",
    "\n",
    "<img src=\"assets/14542.jpeg\" alt=\"image: https://www.statista.com/chart/14542/bike-sharing-programs-worldwide/\" width=\"600\"/>\n",
    "\n",
    "*Image Source: https://www.statista.com/chart/14542/bike-sharing-programs-worldwide/*"
   ]
  },
  {
   "cell_type": "markdown",
   "metadata": {},
   "source": [
    "**Problem Statement**\n",
    "\n",
    "Terlepas dari efek positifnya pada lalu lintas, masalah lingkungan dan kesehatan, sistem penyewaan sepeda sangat menarik karena data yang mereka hasilkan dapat digunakan untuk tujuan penelitian. Waktu keberangkatan dan kedatangan, lokasi dan durasi penggunaan dicatat dalam sistem ini. Data tersebut dapat digunakan untuk memprediksi kapan waktu, kondisi, dan tempat yang tepat bagi masyarakat untuk melakukan penyewaan sepeda, sekaligus menjadi masalah tersendiri bagi penyedia sistem penyewaan sepeda ini untuk **mengetahui seberapa banyak sepeda yang harus di distribusikan agar sepeda mereka dapat digunakan secara efisien sehingga mengurangi kemungkinan adanya kondisi yang mempunyai banyak sepeda namun sedikit yang menggunakannya ataupun sebaliknya.**"
   ]
  },
  {
   "cell_type": "markdown",
   "metadata": {},
   "source": [
    "**Goals**\n",
    "\n",
    "Berdasarkan permasalahan yang telah dijelaskan sebelumnya, pihak yang mengadakan program penyewaan sepeda perlu memiliki 'tool' yang dapat digunakan untuk **memprediksi seberapa banyak sepeda yang harus di distribusikan berdasarkan kondisi tertentu**. adanya perbedaan kondisi dan waktu dapat menambah keakuratan dalam memprediksi banyaknya sepeda yang digunakan, yang mana dapat mendistribusikan sepeda secara efisien sehingga penyedia dapat memaksimalkan keuntungan dari penyewaan tersebut."
   ]
  },
  {
   "cell_type": "markdown",
   "metadata": {},
   "source": [
    "**Analytics Approach**\n",
    "\n",
    "Jadi, yang perlu dilakukan adalah menganalisis data untuk menemukan pola dari fitur-fitur yang ada, yang membedakan pada kondisi dan waktu tertentu.\n",
    "\n",
    "Selanjutnya, kita akan membangun suatu model untuk memprediksi suatu nilai numerik atau biasa disebut dengan model regresi, model ini dapat digunakan sebagai 'tool' yang membantu penyedia sistem penyewaan sepeda ini untuk memprediksi banyaknya penyewa berdasarkan kondisi dan waktu tertentu."
   ]
  },
  {
   "cell_type": "markdown",
   "metadata": {},
   "source": [
    "**Metrics Evaluation**\n",
    "\n",
    "Evaluasi metrik yang kita gunakan yang paling difokuskan adalah RMSE dan RMSLE, namun kita juga akan menggunakan MAE dan MAPE sebagai pembanding pada kasus ini.\n",
    "* RMSE merupakan nilai rataan akar kuadrat dari error, metrik ini dapat digunakan untuk mengukur seberapa jauh nilai prediksi yang dihasilkan berdasarkan rataannya.\n",
    "* RMSLE adalah nilai rataan akar kuadrat dari error yang digunakan khusus jika fitur target ditransformasikan menggunakan perhitungan logaritma, kita dapat mengunakan metrik ini untuk menghitung rasio antara nilai aktual dan prediksinya. nilai dari metrik ini dapat mereduksi error yang ditimbulkan oleh outliers atau perbedaan nilai yang terlalu jauh.\n",
    "* MAE adalah rataan nilai absolut dari error\n",
    "* MAPE adalah rataan persentase error yang dihasilkan oleh model regresi, dengan nilai keakuratan berdasarkan buku dari [Lewis's (1982)](https://www.nrpa.org/globalassets/journals/jlr/2003/volume-35/jlr-volume-35-number-4-pp-441-454.pdf) mengatakan bahwa jika nilai MAPE sebesar 0.10 atau 10% merupakan prediksi yang sangat akurat, 11-20% merupakan prediksi yang baik, 21-50% merupakan prediksi yang masuk akal, dan 51% dan lebih banyak lagi adalah prediksi yang tidak akurat, adapun jika lebih dari 100% merupakan prediksi yang sangat tidak akurat.\n",
    "\n",
    "Semakin kecil nilai RMSLE, MAE, dan MAPE yang dihasilkan, berarti model semakin akurat dalam memprediksi banyaknya penyewa sepeda dengan limitasi fitur yang digunakan. "
   ]
  },
  {
   "cell_type": "markdown",
   "metadata": {},
   "source": [
    "### **Importing Libraries**\n",
    "---"
   ]
  },
  {
   "cell_type": "code",
   "execution_count": 1,
   "metadata": {},
   "outputs": [
    {
     "name": "stderr",
     "output_type": "stream",
     "text": [
      "C:\\Users\\indon\\miniconda3\\lib\\site-packages\\xgboost\\compat.py:36: FutureWarning: pandas.Int64Index is deprecated and will be removed from pandas in a future version. Use pandas.Index with the appropriate dtype instead.\n",
      "  from pandas import MultiIndex, Int64Index\n"
     ]
    }
   ],
   "source": [
    "from sklearn.model_selection import cross_val_score, KFold, train_test_split, RandomizedSearchCV\n",
    "from sklearn.metrics import mean_squared_error ,mean_squared_log_error, mean_absolute_error, mean_absolute_percentage_error\n",
    "from sklearn.base import BaseEstimator, TransformerMixin\n",
    "from sklearn.pipeline import Pipeline\n",
    "from sklearn.compose import ColumnTransformer, TransformedTargetRegressor\n",
    "import category_encoders as ce\n",
    "from sklearn.preprocessing import OneHotEncoder, StandardScaler\n",
    "from sklearn.linear_model import LinearRegression\n",
    "from sklearn.tree import DecisionTreeRegressor\n",
    "from sklearn.ensemble import RandomForestRegressor\n",
    "from xgboost.sklearn import XGBRegressor\n",
    "from lightgbm import LGBMRegressor\n",
    "import pandas as pd\n",
    "import pickle\n",
    "import numpy as np\n",
    "import seaborn as sns\n",
    "import matplotlib.pyplot as plt\n",
    "%matplotlib inline\n",
    "\n",
    "import warnings\n",
    "warnings.filterwarnings('ignore')\n"
   ]
  },
  {
   "cell_type": "markdown",
   "metadata": {},
   "source": [
    "**Library Version Used**"
   ]
  },
  {
   "cell_type": "code",
   "execution_count": 2,
   "metadata": {},
   "outputs": [
    {
     "name": "stdout",
     "output_type": "stream",
     "text": [
      "1.0.2 scikit-learn\n",
      "2.4.1 category_encoder\n",
      "1.5.1 xgboost\n",
      "3.3.2 lightgbm\n",
      "1.4.2 pandas\n",
      "1.21.5 numpy\n",
      "0.11.2 seaborn\n",
      "3.5.1 matplotlib\n",
      "4.0 pickle\n",
      "3.9.12 python\n"
     ]
    }
   ],
   "source": [
    "import sklearn\n",
    "import lightgbm\n",
    "import xgboost\n",
    "import matplotlib\n",
    "from platform import python_version\n",
    "\n",
    "lib = {'scikit-learn': sklearn, 'category_encoder': ce, 'xgboost': xgboost,\n",
    "       'lightgbm': lightgbm, 'pandas': pd, 'numpy': np, 'seaborn': sns,\n",
    "       'matplotlib': matplotlib}\n",
    "\n",
    "for i in lib:\n",
    "    print(lib[i].__version__, i)\n",
    "else:\n",
    "    print(pickle.format_version, 'pickle')\n",
    "    print(python_version(), 'python')\n"
   ]
  },
  {
   "cell_type": "markdown",
   "metadata": {},
   "source": [
    "### **Data Understanding**\n",
    "---\n",
    "\n",
    "Sistem penyewaan sepeda sangat berkorelasi dengan kondisi lingkungan dan musim. Misalnya, kondisi cuaca,\n",
    "curah hujan, hari dalam seminggu, musim, jam dalam sehari, dll. hal tersebut dapat mempengaruhi perilaku penyewa apakah seseorang dengan kondisi tersebut ingin menyewa sepeda atau tidak.\n",
    "\n",
    "* Dataset menunjukkan data sewa sepeda per jam selama dua tahun (2011 dan 2012). \n",
    "* Memiliki 11 atribut yang masing-masing menunjukan waktu penyewaan, kondisi lingkungan, dan banyaknya sepeda yang disewa"
   ]
  },
  {
   "cell_type": "markdown",
   "metadata": {},
   "source": [
    "|Atribute|Data Type|Description|\n",
    "|---|---|---|\n",
    "|dteday|Datetime|Date|\n",
    "|hum|Float|Normalized Humadity. The values are divided to 100 (maximum value)|\n",
    "|weathersit|Integer|1: Clear, few clouds, partly cloudy<br>2: Mist, cloudy, mist and broken clouds, mist and few clouds<br>3: Light snow, light rain and thunderstorm and scattered clouds, light rain and scattered clouds<br>4: Heavy rain, ice pallets, thunderstorm and mist, snow and fog|\n",
    "|holiday|Integer|Whether the day is holiday or not (1: holiday, 0: not holiday). References: [2011](https://dchr.dc.gov/page/holiday-schedules-2010-and-2011), [2012](https://dchr.dc.gov/page/holiday-schedules-2012-and-2013)|\n",
    "|season|Integer|Season (1: Winter, 2: Spring, 3: Summer, 4: Fall)|\n",
    "|atemp|Float|Normalized feeling temperature in Celsius. The values are divided to 50 (maximum value)|\n",
    "|temp|Float|Normalized temperature in Celsius. The values are divided to 41 (maximum value)|\n",
    "|hr|Integer|Hour (0 to 23)|\n",
    "|casual|Integer|Count of casual users|\n",
    "|registered|Integer|Count of registered users|\n",
    "|cnt|Integer|Count of hourly total rental bikes including both casual and registered (Target variable)|"
   ]
  },
  {
   "cell_type": "code",
   "execution_count": 3,
   "metadata": {},
   "outputs": [],
   "source": [
    "df=pd.read_csv('data_bike_sharing.csv', parse_dates=['dteday'])\n"
   ]
  },
  {
   "cell_type": "code",
   "execution_count": 4,
   "metadata": {},
   "outputs": [
    {
     "data": {
      "text/plain": [
       "(12165, 11)"
      ]
     },
     "execution_count": 4,
     "metadata": {},
     "output_type": "execute_result"
    }
   ],
   "source": [
    "df.shape"
   ]
  },
  {
   "cell_type": "code",
   "execution_count": 5,
   "metadata": {},
   "outputs": [
    {
     "data": {
      "text/html": [
       "<div>\n",
       "<style scoped>\n",
       "    .dataframe tbody tr th:only-of-type {\n",
       "        vertical-align: middle;\n",
       "    }\n",
       "\n",
       "    .dataframe tbody tr th {\n",
       "        vertical-align: top;\n",
       "    }\n",
       "\n",
       "    .dataframe thead th {\n",
       "        text-align: right;\n",
       "    }\n",
       "</style>\n",
       "<table border=\"1\" class=\"dataframe\">\n",
       "  <thead>\n",
       "    <tr style=\"text-align: right;\">\n",
       "      <th></th>\n",
       "      <th>dteday</th>\n",
       "      <th>hum</th>\n",
       "      <th>weathersit</th>\n",
       "      <th>holiday</th>\n",
       "      <th>season</th>\n",
       "      <th>atemp</th>\n",
       "      <th>temp</th>\n",
       "      <th>hr</th>\n",
       "      <th>casual</th>\n",
       "      <th>registered</th>\n",
       "      <th>cnt</th>\n",
       "    </tr>\n",
       "  </thead>\n",
       "  <tbody>\n",
       "    <tr>\n",
       "      <th>0</th>\n",
       "      <td>2011-12-09</td>\n",
       "      <td>0.62</td>\n",
       "      <td>1</td>\n",
       "      <td>0</td>\n",
       "      <td>4</td>\n",
       "      <td>0.3485</td>\n",
       "      <td>0.36</td>\n",
       "      <td>16</td>\n",
       "      <td>24</td>\n",
       "      <td>226</td>\n",
       "      <td>250</td>\n",
       "    </tr>\n",
       "    <tr>\n",
       "      <th>1</th>\n",
       "      <td>2012-06-17</td>\n",
       "      <td>0.64</td>\n",
       "      <td>1</td>\n",
       "      <td>0</td>\n",
       "      <td>2</td>\n",
       "      <td>0.5152</td>\n",
       "      <td>0.54</td>\n",
       "      <td>4</td>\n",
       "      <td>2</td>\n",
       "      <td>16</td>\n",
       "      <td>18</td>\n",
       "    </tr>\n",
       "    <tr>\n",
       "      <th>2</th>\n",
       "      <td>2011-06-15</td>\n",
       "      <td>0.53</td>\n",
       "      <td>1</td>\n",
       "      <td>0</td>\n",
       "      <td>2</td>\n",
       "      <td>0.6212</td>\n",
       "      <td>0.62</td>\n",
       "      <td>23</td>\n",
       "      <td>17</td>\n",
       "      <td>90</td>\n",
       "      <td>107</td>\n",
       "    </tr>\n",
       "    <tr>\n",
       "      <th>3</th>\n",
       "      <td>2012-03-31</td>\n",
       "      <td>0.87</td>\n",
       "      <td>2</td>\n",
       "      <td>0</td>\n",
       "      <td>2</td>\n",
       "      <td>0.3485</td>\n",
       "      <td>0.36</td>\n",
       "      <td>8</td>\n",
       "      <td>19</td>\n",
       "      <td>126</td>\n",
       "      <td>145</td>\n",
       "    </tr>\n",
       "    <tr>\n",
       "      <th>4</th>\n",
       "      <td>2012-07-31</td>\n",
       "      <td>0.55</td>\n",
       "      <td>1</td>\n",
       "      <td>0</td>\n",
       "      <td>3</td>\n",
       "      <td>0.6970</td>\n",
       "      <td>0.76</td>\n",
       "      <td>18</td>\n",
       "      <td>99</td>\n",
       "      <td>758</td>\n",
       "      <td>857</td>\n",
       "    </tr>\n",
       "  </tbody>\n",
       "</table>\n",
       "</div>"
      ],
      "text/plain": [
       "      dteday   hum  weathersit  holiday  season   atemp  temp  hr  casual  \\\n",
       "0 2011-12-09  0.62           1        0       4  0.3485  0.36  16      24   \n",
       "1 2012-06-17  0.64           1        0       2  0.5152  0.54   4       2   \n",
       "2 2011-06-15  0.53           1        0       2  0.6212  0.62  23      17   \n",
       "3 2012-03-31  0.87           2        0       2  0.3485  0.36   8      19   \n",
       "4 2012-07-31  0.55           1        0       3  0.6970  0.76  18      99   \n",
       "\n",
       "   registered  cnt  \n",
       "0         226  250  \n",
       "1          16   18  \n",
       "2          90  107  \n",
       "3         126  145  \n",
       "4         758  857  "
      ]
     },
     "execution_count": 5,
     "metadata": {},
     "output_type": "execute_result"
    }
   ],
   "source": [
    "df.head()"
   ]
  },
  {
   "cell_type": "code",
   "execution_count": 6,
   "metadata": {},
   "outputs": [
    {
     "data": {
      "text/plain": [
       "dteday        datetime64[ns]\n",
       "hum                  float64\n",
       "weathersit             int64\n",
       "holiday                int64\n",
       "season                 int64\n",
       "atemp                float64\n",
       "temp                 float64\n",
       "hr                     int64\n",
       "casual                 int64\n",
       "registered             int64\n",
       "cnt                    int64\n",
       "dtype: object"
      ]
     },
     "execution_count": 6,
     "metadata": {},
     "output_type": "execute_result"
    }
   ],
   "source": [
    "df.dtypes"
   ]
  },
  {
   "cell_type": "markdown",
   "metadata": {},
   "source": [
    "**Splitting Dataset into Train and Test Set (no needed, for internal test only)**"
   ]
  },
  {
   "cell_type": "code",
   "execution_count": 7,
   "metadata": {},
   "outputs": [],
   "source": [
    "# df, test = train_test_split(df, random_state=42, test_size=0.02)\n",
    "# print(df.shape)\n",
    "# print(test.shape)"
   ]
  },
  {
   "cell_type": "markdown",
   "metadata": {},
   "source": [
    "### **EDA & Feature Engineering**\n",
    "---"
   ]
  },
  {
   "cell_type": "markdown",
   "metadata": {},
   "source": [
    "**Null and Duplicated Values**"
   ]
  },
  {
   "cell_type": "code",
   "execution_count": 8,
   "metadata": {},
   "outputs": [
    {
     "data": {
      "text/plain": [
       "dteday        False\n",
       "hum           False\n",
       "weathersit    False\n",
       "holiday       False\n",
       "season        False\n",
       "atemp         False\n",
       "temp          False\n",
       "hr            False\n",
       "casual        False\n",
       "registered    False\n",
       "cnt           False\n",
       "dtype: bool"
      ]
     },
     "execution_count": 8,
     "metadata": {},
     "output_type": "execute_result"
    }
   ],
   "source": [
    "df.isna().any()"
   ]
  },
  {
   "cell_type": "code",
   "execution_count": 9,
   "metadata": {},
   "outputs": [
    {
     "data": {
      "text/plain": [
       "False"
      ]
     },
     "execution_count": 9,
     "metadata": {},
     "output_type": "execute_result"
    }
   ],
   "source": [
    "df.duplicated().any()"
   ]
  },
  {
   "cell_type": "markdown",
   "metadata": {},
   "source": [
    "Berdasarkan hasil diatas, tidak ditemukan adanya null values maupun data yang terduplikasi"
   ]
  },
  {
   "cell_type": "markdown",
   "metadata": {},
   "source": [
    "**Drop Unused Features**\n",
    "\n",
    "Kita akan menghilangkan fitur yang dirasa tidak perlu digunakan seperti  `casual` dan `registered` yang akan di total dan menjadi fitur target yaitu `cnt`, jika di pertahankan maka dikhawatirkan akan membuat model menjadi bias atau tidak sesuai."
   ]
  },
  {
   "cell_type": "code",
   "execution_count": 10,
   "metadata": {},
   "outputs": [
    {
     "data": {
      "text/plain": [
       "Index(['dteday', 'hum', 'weathersit', 'holiday', 'season', 'atemp', 'temp',\n",
       "       'hr', 'cnt'],\n",
       "      dtype='object')"
      ]
     },
     "execution_count": 10,
     "metadata": {},
     "output_type": "execute_result"
    }
   ],
   "source": [
    "df.drop(['casual', 'registered'], axis=1, errors='ignore', inplace=True)\n",
    "df.columns"
   ]
  },
  {
   "cell_type": "markdown",
   "metadata": {},
   "source": [
    "**Handling Outlier with Chebyshev’s & Empirical rules**"
   ]
  },
  {
   "cell_type": "code",
   "execution_count": 11,
   "metadata": {},
   "outputs": [
    {
     "data": {
      "image/png": "[encoded data removed]",
      "text/plain": [
       "<Figure size 864x504 with 8 Axes>"
      ]
     },
     "metadata": {
      "needs_background": "light"
     },
     "output_type": "display_data"
    }
   ],
   "source": [
    "bp = df.drop('dteday', axis=1).columns.tolist()\n",
    "n = 1\n",
    "\n",
    "plt.figure(figsize=(12,7))\n",
    "for i in bp:\n",
    "    plt.subplot(3,3,n)\n",
    "    df.boxplot(i)\n",
    "    n += 1"
   ]
  },
  {
   "cell_type": "markdown",
   "metadata": {},
   "source": [
    "Terlihat bahwa terdapat outlier yang cukup banyak pada fitur `cnt`, namun kita tidak memiliki bukti kuat untuk dapat menghapusnya dengan asumsi data tersebut bukan merupakan suatu kesalahan. penanganan yang akan dilakukan adalah menggunakan pendekatan [Chebyshev’s & Empirical rules](https://www.csus.edu/indiv/s/seria/lecturenotes/chebyshev.htm) menggunakan standar deviasi 3 dari mean, dengan begitu kita akan menyaring dan menggunakan 99.7% data yang tidak menyimpang atau menghilangkan 0.3% data yang menyimpang."
   ]
  },
  {
   "cell_type": "code",
   "execution_count": 12,
   "metadata": {},
   "outputs": [
    {
     "name": "stdout",
     "output_type": "stream",
     "text": [
      "Before (12165, 9)\n",
      "After (11998, 9)\n"
     ]
    }
   ],
   "source": [
    "before = df.shape\n",
    "df = df[np.abs(df['cnt']-df['cnt'].mean())<=(3*df['cnt'].std())]\n",
    "after = df.shape\n",
    "print('Before', before)\n",
    "print('After', after)"
   ]
  },
  {
   "cell_type": "markdown",
   "metadata": {},
   "source": [
    "**Handling Skewness with Log Transformation**"
   ]
  },
  {
   "cell_type": "code",
   "execution_count": 13,
   "metadata": {},
   "outputs": [
    {
     "data": {
      "image/png": "[encoded data removed]",
      "text/plain": [
       "<Figure size 864x576 with 4 Axes>"
      ]
     },
     "metadata": {
      "needs_background": "light"
     },
     "output_type": "display_data"
    }
   ],
   "source": [
    "plt.figure(figsize=(12, 8))\n",
    "\n",
    "plt.subplot(2, 2, 1)\n",
    "plt.boxplot(df['cnt'])\n",
    "plt.title('Before Transformation')\n",
    "\n",
    "plt.subplot(2, 2, 2)\n",
    "plt.boxplot(df['cnt'].apply(lambda x: np.log1p(x)))\n",
    "plt.title('After Transformation')\n",
    "\n",
    "plt.subplot(2, 2, 3)\n",
    "df['cnt'].hist()\n",
    "\n",
    "plt.subplot(2, 2, 4)\n",
    "df['cnt'].apply(lambda x: np.log1p(x)).hist()\n",
    "\n",
    "plt.show()\n"
   ]
  },
  {
   "cell_type": "markdown",
   "metadata": {},
   "source": [
    "Kita akan melakukan penanganan data yang terindikasi sangat miring dan banyak outliers ini menggunakan transformasi logaritma, berdasarkan penelitian dari [sciencedirect.com](https://www.sciencedirect.com/topics/computer-science/log-transformation) metode ini berguna untuk mengompresi sumbu y. Misalnya, jika kita memiliki rentang data yang sangat besar, maka nilai yang lebih kecil dapat kewalahan oleh nilai yang lebih besar. Transformasi log juga kebal outlier dan memungkinkan kita untuk berpotensi mendapatkan distribusi yang ideal.\n",
    "\n",
    "Transformasi Log digunakan karena nilai pada fitur `cnt` tidak dihasilkan karena kesalahan, jadi kita dapat menganggapnya sebagai outlier alami, berdasarkan asumsi tersebut kita tidak dapat menghapus data outlier ini, maka untuk menangani outlier tersebut kita menggunakan transformasi logaritma."
   ]
  },
  {
   "cell_type": "code",
   "execution_count": 14,
   "metadata": {},
   "outputs": [
    {
     "name": "stdout",
     "output_type": "stream",
     "text": [
      "Before Transformation: 1.04506593926659\n",
      "After Transformation: -0.8248840101070347\n"
     ]
    }
   ],
   "source": [
    "original_skew = df['cnt'].skew()\n",
    "df['cnt'] = df['cnt'].apply(lambda x: np.log1p(x))\n",
    "\n",
    "print('Before Transformation:', original_skew)\n",
    "print('After Transformation:', df['cnt'].skew())"
   ]
  },
  {
   "cell_type": "markdown",
   "metadata": {},
   "source": [
    "Dikutip dari situs [Oracle](https://docs.oracle.com/cd/E57185_01/CBREG/ch03s02s03s01.html), Nilai kemiringan lebih besar dari 1 atau kurang dari -1 menunjukkan distribusi yang sangat miring. Nilai antara 0,5 dan 1 atau -0,5 dan -1 kemiringan moderat. Nilai antara -0,5 dan 0,5 menunjukkan bahwa distribusinya cukup simetris. \n",
    "\n",
    "Maka bisa disimpulkan berdasarkan hasil nilai kemiringan diatas memiliki -0.83 yang berarti memiliki kemiringan moderat, lebih baik dari sebelum transformasi di angka 1.0377 yang bisa di katakan sangat miring."
   ]
  },
  {
   "cell_type": "markdown",
   "metadata": {},
   "source": [
    "**Categorical Features**"
   ]
  },
  {
   "cell_type": "code",
   "execution_count": 15,
   "metadata": {},
   "outputs": [
    {
     "data": {
      "image/png": "[encoded data removed]",
      "text/plain": [
       "<Figure size 360x360 with 1 Axes>"
      ]
     },
     "metadata": {
      "needs_background": "light"
     },
     "output_type": "display_data"
    },
    {
     "data": {
      "image/png": "[encoded data removed]",
      "text/plain": [
       "<Figure size 216x360 with 1 Axes>"
      ]
     },
     "metadata": {
      "needs_background": "light"
     },
     "output_type": "display_data"
    },
    {
     "data": {
      "image/png": "[encoded data removed]",
      "text/plain": [
       "<Figure size 360x360 with 1 Axes>"
      ]
     },
     "metadata": {
      "needs_background": "light"
     },
     "output_type": "display_data"
    },
    {
     "data": {
      "image/png": "[encoded data removed]",
      "text/plain": [
       "<Figure size 1116x360 with 1 Axes>"
      ]
     },
     "metadata": {
      "needs_background": "light"
     },
     "output_type": "display_data"
    }
   ],
   "source": [
    "time_attr = ['weathersit', 'holiday', 'season', 'hr']\n",
    "\n",
    "for i in time_attr:\n",
    "    l = len(df[i].unique())\n",
    "    if l == 2:\n",
    "        aspect = .6\n",
    "    elif l == 4:\n",
    "        aspect = 1\n",
    "    elif l == 7:\n",
    "        aspect = 1.6\n",
    "    elif l == 12:\n",
    "        aspect = 2.1  \n",
    "    elif l == 24:\n",
    "        aspect = 3.1\n",
    "    elif l == 31:\n",
    "        aspect = 4.1\n",
    "        \n",
    "    sns.catplot(x=i, y='cnt', data=df,\n",
    "                kind='bar', height=5, aspect=aspect)\n",
    "    plt.title(i, size=15, weight='bold')\n",
    "    plt.xlabel(None)\n",
    "    plt.show()\n"
   ]
  },
  {
   "cell_type": "markdown",
   "metadata": {},
   "source": [
    "**Numerical Features**"
   ]
  },
  {
   "cell_type": "code",
   "execution_count": 16,
   "metadata": {},
   "outputs": [
    {
     "data": {
      "image/png": "[encoded data removed]",
      "text/plain": [
       "<Figure size 720x360 with 1 Axes>"
      ]
     },
     "metadata": {
      "needs_background": "light"
     },
     "output_type": "display_data"
    },
    {
     "data": {
      "image/png": "[encoded data removed]",
      "text/plain": [
       "<Figure size 720x360 with 1 Axes>"
      ]
     },
     "metadata": {
      "needs_background": "light"
     },
     "output_type": "display_data"
    },
    {
     "data": {
      "image/png": "[encoded data removed]",
      "text/plain": [
       "<Figure size 720x360 with 1 Axes>"
      ]
     },
     "metadata": {
      "needs_background": "light"
     },
     "output_type": "display_data"
    },
    {
     "data": {
      "image/png": "[encoded data removed]",
      "text/plain": [
       "<Figure size 720x360 with 1 Axes>"
      ]
     },
     "metadata": {
      "needs_background": "light"
     },
     "output_type": "display_data"
    }
   ],
   "source": [
    "num_attr = ['hum', 'atemp', 'temp', 'cnt']\n",
    "\n",
    "for i in num_attr:\n",
    "    sns.displot(df[i], kde=True, stat='density', aspect=2)\n",
    "    plt.title(i, size=15, weight='bold')\n",
    "    plt.xlabel(None)\n",
    "    plt.show()\n"
   ]
  },
  {
   "cell_type": "markdown",
   "metadata": {},
   "source": [
    "### **Modeling**\n",
    "---"
   ]
  },
  {
   "cell_type": "markdown",
   "metadata": {},
   "source": [
    "**Custom Transformer to Extracting `dteday` Feature**\n",
    "\n",
    "Untuk memperkaya data dan mempermudah dalam melakukan interpretasi maka fitur `dteday` akan kita ekstrak menjadi bagiannya sendiri, fitur baru hasil ekstraksi beserta keterangannya bisa dilihat tabel dibawah.\n",
    "\n",
    "|Atribute|Data Type|Description|\n",
    "|---|---|---|\n",
    "|year|Integer|Year (2011 to 2012)|\n",
    "|month|Integer|Month (1 to 12)|\n",
    "|day|Integer|Day (1 to 31)|\n",
    "|weekday|Integer|Day of the week (0: Sunday, 1: Monday, 2: Tuesday, 3: Wednesday, 4: Thursday, 5: Friday, 6: Saturday)|\n",
    "|workingday|Integer|If the day is neither weekend (saturday & sunday on weekday column) nor holiday is 1, otherwise is 0|"
   ]
  },
  {
   "cell_type": "code",
   "execution_count": 17,
   "metadata": {},
   "outputs": [],
   "source": [
    "class DateTransformer(BaseEstimator, TransformerMixin):  \n",
    "    \n",
    "    def fit(self, X, y=None):\n",
    "        return self\n",
    "\n",
    "    def transform(self, X, y=None):\n",
    "        X['year'] = X['dteday'].dt.year\n",
    "        X['month'] = X['dteday'].dt.month\n",
    "        X['day'] = X['dteday'].dt.day\n",
    "        X['weekday'] = X['dteday'].dt.day_of_week\n",
    "        X['workingday'] = np.where((X['holiday'] == 1) | (\n",
    "            X['weekday'] == 5) | (X['weekday'] == 6), 0, 1)\n",
    "        X = X.drop('dteday', axis=1)\n",
    "        X = X.astype(str)\n",
    "        return X"
   ]
  },
  {
   "cell_type": "markdown",
   "metadata": {},
   "source": [
    "**Data Spliting**\n",
    "\n",
    "Pada tahap ini kita melakukan pembagian data, disini kita tentukan fitur target yaitu adalah `cnt` dan sisanya akan masuk pada pemodelan untuk menemukan pola, selanjutnya akan ada pemisahan antara data untuk di latih dan data untuk melakukan tes/validasi"
   ]
  },
  {
   "cell_type": "code",
   "execution_count": 18,
   "metadata": {},
   "outputs": [],
   "source": [
    "X = df.drop(['cnt'], axis=1)\n",
    "y = df['cnt']\n",
    "\n",
    "X_train, X_test, y_train, y_test = train_test_split(\n",
    "    X,\n",
    "    y,\n",
    "    test_size=.2,\n",
    "    random_state=42)\n"
   ]
  },
  {
   "cell_type": "markdown",
   "metadata": {},
   "source": [
    "**Encoding** \n",
    "\n",
    "kita perlu melakukan encoding pada fitur kategorik karena komputer tidak dapat memproses data berbentuk kategorik, walaupun nilainya sudah berupa angka namun itu adalah nilai kategorik, jika di proses dengan data seperti itu maka akan membuat model salah dalam melakukan prediksi.\n",
    "\n",
    "**One-Hot:** season, year, weekday, weathersit, holiday  \n",
    "**Binary:** month, day, hr"
   ]
  },
  {
   "cell_type": "code",
   "execution_count": 19,
   "metadata": {},
   "outputs": [],
   "source": [
    "transformer = ColumnTransformer([\n",
    "    ('One Hot', OneHotEncoder(drop='first', handle_unknown='ignore'),\n",
    "     ['season', 'year', 'weekday', 'weathersit', 'holiday']),\n",
    "    ('Binary', ce.BinaryEncoder(), ['month', 'day', 'hr'])\n",
    "], remainder='passthrough')\n"
   ]
  },
  {
   "cell_type": "markdown",
   "metadata": {},
   "source": [
    "**Simple Model Benchmarking**\n",
    "\n",
    "Pada tahap ini kita akan melakukan proses pencarian skor dari metrik yang telah kita tentukan sebelumnya, algoritma yang digunakan antara lain `LinearRegression`, `Decision Tree`, `Random Forest`, `XGBoost`, dan `LightGBM`. kita juga menggunakan `Standard Scaler` karena merupakan yang paling tepat untuk kasus regresi dengan tidak terlalu banyak outlier. "
   ]
  },
  {
   "cell_type": "code",
   "execution_count": 20,
   "metadata": {
    "scrolled": true
   },
   "outputs": [
    {
     "name": "stdout",
     "output_type": "stream",
     "text": [
      "[-1.1524926  -1.2056115  -1.21512698 -1.20249011 -1.15304591] TransformedTargetRegressor(func=<ufunc 'log'>, inverse_func=<ufunc 'exp'>,\n",
      "                           regressor=LinearRegression())\n",
      "[-0.06566896 -0.06608374 -0.06986103 -0.06712477 -0.06411202] TransformedTargetRegressor(func=<ufunc 'log'>, inverse_func=<ufunc 'exp'>,\n",
      "                           regressor=LinearRegression())\n",
      "[-0.95046397 -0.97248758 -1.00624919 -0.9603761  -0.94434092] TransformedTargetRegressor(func=<ufunc 'log'>, inverse_func=<ufunc 'exp'>,\n",
      "                           regressor=LinearRegression())\n",
      "[-0.30188527 -0.28868215 -0.31110902 -0.28943809 -0.29301515] TransformedTargetRegressor(func=<ufunc 'log'>, inverse_func=<ufunc 'exp'>,\n",
      "                           regressor=LinearRegression())\n",
      "[-0.79074958 -0.96293934 -0.80373512 -0.83004952 -0.56101809] TransformedTargetRegressor(func=<ufunc 'log'>, inverse_func=<ufunc 'exp'>,\n",
      "                           regressor=DecisionTreeRegressor(random_state=42))\n",
      "[-0.03262646 -0.04725272 -0.03293269 -0.03604152 -0.01923818] TransformedTargetRegressor(func=<ufunc 'log'>, inverse_func=<ufunc 'exp'>,\n",
      "                           regressor=DecisionTreeRegressor(random_state=42))\n",
      "[-0.50612229 -0.58950356 -0.52068046 -0.5047565  -0.36879451] TransformedTargetRegressor(func=<ufunc 'log'>, inverse_func=<ufunc 'exp'>,\n",
      "                           regressor=DecisionTreeRegressor(random_state=42))\n",
      "[-0.15382392 -0.18316907 -0.16252891 -0.14862209 -0.11497777] TransformedTargetRegressor(func=<ufunc 'log'>, inverse_func=<ufunc 'exp'>,\n",
      "                           regressor=DecisionTreeRegressor(random_state=42))\n",
      "[-0.55600615 -0.65712401 -0.57737359 -0.54054395 -0.40205164] TransformedTargetRegressor(func=<ufunc 'log'>, inverse_func=<ufunc 'exp'>,\n",
      "                           regressor=RandomForestRegressor(random_state=42))\n",
      "[-0.01569089 -0.0217206  -0.01735299 -0.01421394 -0.00933494] TransformedTargetRegressor(func=<ufunc 'log'>, inverse_func=<ufunc 'exp'>,\n",
      "                           regressor=RandomForestRegressor(random_state=42))\n",
      "[-0.41791573 -0.45889029 -0.40861001 -0.38547037 -0.29257693] TransformedTargetRegressor(func=<ufunc 'log'>, inverse_func=<ufunc 'exp'>,\n",
      "                           regressor=RandomForestRegressor(random_state=42))\n",
      "[-0.12325614 -0.1354517  -0.12528604 -0.11202457 -0.08953042] TransformedTargetRegressor(func=<ufunc 'log'>, inverse_func=<ufunc 'exp'>,\n",
      "                           regressor=RandomForestRegressor(random_state=42))\n",
      "[-0.52903214 -0.49625818 -0.4896561  -0.47469556 -0.43026402] TransformedTargetRegressor(func=<ufunc 'log'>, inverse_func=<ufunc 'exp'>,\n",
      "                           regressor=XGBRegressor(base_score=None, booster=None,\n",
      "                                                  colsample_bylevel=None,\n",
      "                                                  colsample_bynode=None,\n",
      "                                                  colsample_bytree=None,\n",
      "                                                  enable_categorical=False,\n",
      "                                                  gamma=None, gpu_id=None,\n",
      "                                                  importance_type=None,\n",
      "                                                  interaction_constraints=None,\n",
      "                                                  learning_rate=None,\n",
      "                                                  max_delta_step=None,\n",
      "                                                  max_depth=None,\n",
      "                                                  min_child_weight=None,\n",
      "                                                  missing=nan,\n",
      "                                                  monotone_constraints=None,\n",
      "                                                  n_estimators=100, n_jobs=None,\n",
      "                                                  num_parallel_tree=None,\n",
      "                                                  predictor=None,\n",
      "                                                  random_state=42,\n",
      "                                                  reg_alpha=None,\n",
      "                                                  reg_lambda=None,\n",
      "                                                  scale_pos_weight=None,\n",
      "                                                  subsample=None,\n",
      "                                                  tree_method=None,\n",
      "                                                  validate_parameters=None,\n",
      "                                                  verbosity=None))\n",
      "[-0.0137111  -0.01280472 -0.01312407 -0.01132774 -0.00989273] TransformedTargetRegressor(func=<ufunc 'log'>, inverse_func=<ufunc 'exp'>,\n",
      "                           regressor=XGBRegressor(base_score=None, booster=None,\n",
      "                                                  colsample_bylevel=None,\n",
      "                                                  colsample_bynode=None,\n",
      "                                                  colsample_bytree=None,\n",
      "                                                  enable_categorical=False,\n",
      "                                                  gamma=None, gpu_id=None,\n",
      "                                                  importance_type=None,\n",
      "                                                  interaction_constraints=None,\n",
      "                                                  learning_rate=None,\n",
      "                                                  max_delta_step=None,\n",
      "                                                  max_depth=None,\n",
      "                                                  min_child_weight=None,\n",
      "                                                  missing=nan,\n",
      "                                                  monotone_constraints=None,\n",
      "                                                  n_estimators=100, n_jobs=None,\n",
      "                                                  num_parallel_tree=None,\n",
      "                                                  predictor=None,\n",
      "                                                  random_state=42,\n",
      "                                                  reg_alpha=None,\n",
      "                                                  reg_lambda=None,\n",
      "                                                  scale_pos_weight=None,\n",
      "                                                  subsample=None,\n",
      "                                                  tree_method=None,\n",
      "                                                  validate_parameters=None,\n",
      "                                                  verbosity=None))\n",
      "[-0.39602867 -0.36727507 -0.36547595 -0.35282423 -0.32011903] TransformedTargetRegressor(func=<ufunc 'log'>, inverse_func=<ufunc 'exp'>,\n",
      "                           regressor=XGBRegressor(base_score=None, booster=None,\n",
      "                                                  colsample_bylevel=None,\n",
      "                                                  colsample_bynode=None,\n",
      "                                                  colsample_bytree=None,\n",
      "                                                  enable_categorical=False,\n",
      "                                                  gamma=None, gpu_id=None,\n",
      "                                                  importance_type=None,\n",
      "                                                  interaction_constraints=None,\n",
      "                                                  learning_rate=None,\n",
      "                                                  max_delta_step=None,\n",
      "                                                  max_depth=None,\n",
      "                                                  min_child_weight=None,\n",
      "                                                  missing=nan,\n",
      "                                                  monotone_constraints=None,\n",
      "                                                  n_estimators=100, n_jobs=None,\n",
      "                                                  num_parallel_tree=None,\n",
      "                                                  predictor=None,\n",
      "                                                  random_state=42,\n",
      "                                                  reg_alpha=None,\n",
      "                                                  reg_lambda=None,\n",
      "                                                  scale_pos_weight=None,\n",
      "                                                  subsample=None,\n",
      "                                                  tree_method=None,\n",
      "                                                  validate_parameters=None,\n",
      "                                                  verbosity=None))\n"
     ]
    },
    {
     "name": "stdout",
     "output_type": "stream",
     "text": [
      "[-0.11375985 -0.10579548 -0.11041103 -0.10247363 -0.09399373] TransformedTargetRegressor(func=<ufunc 'log'>, inverse_func=<ufunc 'exp'>,\n",
      "                           regressor=XGBRegressor(base_score=None, booster=None,\n",
      "                                                  colsample_bylevel=None,\n",
      "                                                  colsample_bynode=None,\n",
      "                                                  colsample_bytree=None,\n",
      "                                                  enable_categorical=False,\n",
      "                                                  gamma=None, gpu_id=None,\n",
      "                                                  importance_type=None,\n",
      "                                                  interaction_constraints=None,\n",
      "                                                  learning_rate=None,\n",
      "                                                  max_delta_step=None,\n",
      "                                                  max_depth=None,\n",
      "                                                  min_child_weight=None,\n",
      "                                                  missing=nan,\n",
      "                                                  monotone_constraints=None,\n",
      "                                                  n_estimators=100, n_jobs=None,\n",
      "                                                  num_parallel_tree=None,\n",
      "                                                  predictor=None,\n",
      "                                                  random_state=42,\n",
      "                                                  reg_alpha=None,\n",
      "                                                  reg_lambda=None,\n",
      "                                                  scale_pos_weight=None,\n",
      "                                                  subsample=None,\n",
      "                                                  tree_method=None,\n",
      "                                                  validate_parameters=None,\n",
      "                                                  verbosity=None))\n",
      "[-0.4827058  -0.51164513 -0.4466123  -0.46155093 -0.40363532] TransformedTargetRegressor(func=<ufunc 'log'>, inverse_func=<ufunc 'exp'>,\n",
      "                           regressor=LGBMRegressor(random_state=42))\n",
      "[-0.01201701 -0.0129714  -0.01171159 -0.01041804 -0.00901388] TransformedTargetRegressor(func=<ufunc 'log'>, inverse_func=<ufunc 'exp'>,\n",
      "                           regressor=LGBMRegressor(random_state=42))\n",
      "[-0.36863704 -0.37618143 -0.33612504 -0.34586712 -0.30292686] TransformedTargetRegressor(func=<ufunc 'log'>, inverse_func=<ufunc 'exp'>,\n",
      "                           regressor=LGBMRegressor(random_state=42))\n",
      "[-0.10813333 -0.1065739  -0.10481602 -0.09940038 -0.09081612] TransformedTargetRegressor(func=<ufunc 'log'>, inverse_func=<ufunc 'exp'>,\n",
      "                           regressor=LGBMRegressor(random_state=42))\n"
     ]
    }
   ],
   "source": [
    "lr = LinearRegression()\n",
    "dt = DecisionTreeRegressor(random_state=42)\n",
    "rf = RandomForestRegressor(random_state=42)\n",
    "xgb = XGBRegressor(random_state=42)\n",
    "lgb = LGBMRegressor(random_state=42)\n",
    "\n",
    "# Pemodelan dilakukan dalam skala logaritmik, namun kemudian di-inverse kembali untuk interpretasi\n",
    "log_lr = TransformedTargetRegressor(lr, func=np.log, inverse_func=np.exp)\n",
    "log_dt = TransformedTargetRegressor(dt, func=np.log, inverse_func=np.exp)\n",
    "log_rf = TransformedTargetRegressor(rf, func=np.log, inverse_func=np.exp)\n",
    "log_xgb = TransformedTargetRegressor(xgb, func=np.log, inverse_func=np.exp)\n",
    "log_lgb = TransformedTargetRegressor(lgb, func=np.log, inverse_func=np.exp)\n",
    "\n",
    "# Scaling data\n",
    "scaler = StandardScaler()\n",
    "\n",
    "# Kandidat algoritma\n",
    "models = [log_lr, log_dt, log_rf, log_xgb, log_lgb]\n",
    "\n",
    "score_rmse = []\n",
    "nilai_mean_rmse = []\n",
    "nilai_std_rmse = []\n",
    "\n",
    "score_msle = []\n",
    "nilai_mean_msle = []\n",
    "nilai_std_msle = []\n",
    "\n",
    "score_mae = []\n",
    "nilai_mean_mae = []\n",
    "nilai_std_mae = []\n",
    "\n",
    "score_mape = []\n",
    "nilai_mean_mape = []\n",
    "nilai_std_mape = []\n",
    "\n",
    "# Mencari algoritma terbaik berdasarkan nilai MAE\n",
    "for i in models:\n",
    "\n",
    "    crossval = KFold(n_splits=5, shuffle=True, random_state=42)\n",
    "\n",
    "    estimator = Pipeline([\n",
    "        ('dates', DateTransformer()),\n",
    "        ('preprocessing', transformer),\n",
    "        ('scaler', scaler),\n",
    "        ('model', i)\n",
    "    ])\n",
    "    \n",
    "    # RMSE\n",
    "    model_cv_rmse = cross_val_score(\n",
    "        estimator, \n",
    "        X_train, \n",
    "        y_train, \n",
    "        cv=crossval, \n",
    "        scoring='neg_root_mean_squared_error', \n",
    "        error_score='raise'\n",
    "        )\n",
    "\n",
    "    print(model_cv_rmse, i)\n",
    "\n",
    "    score_rmse.append(model_cv_rmse)\n",
    "    nilai_mean_rmse.append(model_cv_rmse.mean())\n",
    "    nilai_std_rmse.append(model_cv_rmse.std())\n",
    "    \n",
    "    # RMSLE - Root Mean Squared Log Error.\n",
    "    # This metric is used when the Target variable is converted into Log(Target).\n",
    "    # This metric reduces errors generated by outliers in dataset\n",
    "    model_cv_msle = cross_val_score(\n",
    "        estimator,\n",
    "        X_train,\n",
    "        y_train,\n",
    "        cv=crossval,\n",
    "        scoring='neg_mean_squared_log_error',\n",
    "        error_score='raise'\n",
    "    )\n",
    "\n",
    "    print(model_cv_msle, i)\n",
    "\n",
    "    score_msle.append(model_cv_msle)\n",
    "    nilai_mean_msle.append(model_cv_msle.mean())\n",
    "    nilai_std_msle.append(model_cv_msle.std())\n",
    "\n",
    "    # MAE\n",
    "    model_cv_mae = cross_val_score(\n",
    "        estimator,\n",
    "        X_train,\n",
    "        y_train,\n",
    "        cv=crossval,\n",
    "        scoring='neg_mean_absolute_error',\n",
    "        error_score='raise'\n",
    "    )\n",
    "\n",
    "    print(model_cv_mae, i)\n",
    "\n",
    "    score_mae.append(model_cv_mae)\n",
    "    nilai_mean_mae.append(model_cv_mae.mean())\n",
    "    nilai_std_mae.append(model_cv_mae.std())\n",
    "\n",
    "    # MAPE\n",
    "    model_cv_mape = cross_val_score(\n",
    "        estimator,\n",
    "        X_train,\n",
    "        y_train,\n",
    "        cv=crossval,\n",
    "        scoring='neg_mean_absolute_percentage_error',\n",
    "        error_score='raise'\n",
    "    )\n",
    "\n",
    "    print(model_cv_mape, i)\n",
    "\n",
    "    score_mape.append(model_cv_mape)\n",
    "    nilai_mean_mape.append(model_cv_mape.mean())\n",
    "    nilai_std_mape.append(model_cv_mape.std())\n"
   ]
  },
  {
   "cell_type": "code",
   "execution_count": 21,
   "metadata": {},
   "outputs": [
    {
     "data": {
      "text/html": [
       "<div>\n",
       "<style scoped>\n",
       "    .dataframe tbody tr th:only-of-type {\n",
       "        vertical-align: middle;\n",
       "    }\n",
       "\n",
       "    .dataframe tbody tr th {\n",
       "        vertical-align: top;\n",
       "    }\n",
       "\n",
       "    .dataframe thead th {\n",
       "        text-align: right;\n",
       "    }\n",
       "</style>\n",
       "<table border=\"1\" class=\"dataframe\">\n",
       "  <thead>\n",
       "    <tr style=\"text-align: right;\">\n",
       "      <th></th>\n",
       "      <th>Model</th>\n",
       "      <th>Mean_RMSE</th>\n",
       "      <th>Std_RMSE</th>\n",
       "      <th>Mean_MSLE</th>\n",
       "      <th>Std_MSLE</th>\n",
       "      <th>Mean_MAE</th>\n",
       "      <th>Std_MAE</th>\n",
       "      <th>Mean_MAPE</th>\n",
       "      <th>Std_MAPE</th>\n",
       "    </tr>\n",
       "  </thead>\n",
       "  <tbody>\n",
       "    <tr>\n",
       "      <th>0</th>\n",
       "      <td>Linear Regressor</td>\n",
       "      <td>-1.185753</td>\n",
       "      <td>0.027252</td>\n",
       "      <td>-0.066570</td>\n",
       "      <td>0.001909</td>\n",
       "      <td>-0.966784</td>\n",
       "      <td>0.021914</td>\n",
       "      <td>-0.296826</td>\n",
       "      <td>0.008544</td>\n",
       "    </tr>\n",
       "    <tr>\n",
       "      <th>1</th>\n",
       "      <td>DecisionTree Regressor</td>\n",
       "      <td>-0.789698</td>\n",
       "      <td>0.129718</td>\n",
       "      <td>-0.033618</td>\n",
       "      <td>0.008944</td>\n",
       "      <td>-0.497971</td>\n",
       "      <td>0.071684</td>\n",
       "      <td>-0.152624</td>\n",
       "      <td>0.022207</td>\n",
       "    </tr>\n",
       "    <tr>\n",
       "      <th>2</th>\n",
       "      <td>RandomForest Regressor</td>\n",
       "      <td>-0.546620</td>\n",
       "      <td>0.082682</td>\n",
       "      <td>-0.015663</td>\n",
       "      <td>0.004042</td>\n",
       "      <td>-0.392693</td>\n",
       "      <td>0.055402</td>\n",
       "      <td>-0.117110</td>\n",
       "      <td>0.015669</td>\n",
       "    </tr>\n",
       "    <tr>\n",
       "      <th>3</th>\n",
       "      <td>XGBoost Regressor</td>\n",
       "      <td>-0.483981</td>\n",
       "      <td>0.032200</td>\n",
       "      <td>-0.012172</td>\n",
       "      <td>0.001384</td>\n",
       "      <td>-0.360345</td>\n",
       "      <td>0.024586</td>\n",
       "      <td>-0.105287</td>\n",
       "      <td>0.006837</td>\n",
       "    </tr>\n",
       "    <tr>\n",
       "      <th>4</th>\n",
       "      <td>LightGBM Regressor</td>\n",
       "      <td>-0.461230</td>\n",
       "      <td>0.036149</td>\n",
       "      <td>-0.011226</td>\n",
       "      <td>0.001375</td>\n",
       "      <td>-0.345947</td>\n",
       "      <td>0.025985</td>\n",
       "      <td>-0.101948</td>\n",
       "      <td>0.006297</td>\n",
       "    </tr>\n",
       "  </tbody>\n",
       "</table>\n",
       "</div>"
      ],
      "text/plain": [
       "                    Model  Mean_RMSE  Std_RMSE  Mean_MSLE  Std_MSLE  Mean_MAE  \\\n",
       "0        Linear Regressor  -1.185753  0.027252  -0.066570  0.001909 -0.966784   \n",
       "1  DecisionTree Regressor  -0.789698  0.129718  -0.033618  0.008944 -0.497971   \n",
       "2  RandomForest Regressor  -0.546620  0.082682  -0.015663  0.004042 -0.392693   \n",
       "3       XGBoost Regressor  -0.483981  0.032200  -0.012172  0.001384 -0.360345   \n",
       "4      LightGBM Regressor  -0.461230  0.036149  -0.011226  0.001375 -0.345947   \n",
       "\n",
       "    Std_MAE  Mean_MAPE  Std_MAPE  \n",
       "0  0.021914  -0.296826  0.008544  \n",
       "1  0.071684  -0.152624  0.022207  \n",
       "2  0.055402  -0.117110  0.015669  \n",
       "3  0.024586  -0.105287  0.006837  \n",
       "4  0.025985  -0.101948  0.006297  "
      ]
     },
     "execution_count": 21,
     "metadata": {},
     "output_type": "execute_result"
    }
   ],
   "source": [
    "# Evaluasi hasil dari 5 kandidat algoritma yang digunakan\n",
    "pd.DataFrame({\n",
    "    'Model': ['Linear Regressor', 'DecisionTree Regressor', 'RandomForest Regressor', 'XGBoost Regressor', 'LightGBM Regressor'],\n",
    "    'Mean_RMSE': nilai_mean_rmse,\n",
    "    'Std_RMSE': nilai_std_rmse,\n",
    "    'Mean_MSLE': nilai_mean_msle,\n",
    "    'Std_MSLE': nilai_std_msle,\n",
    "    'Mean_MAE': nilai_mean_mae,\n",
    "    'Std_MAE': nilai_std_mae,\n",
    "    'Mean_MAPE': nilai_mean_mape,\n",
    "    'Std_MAPE': nilai_std_mape\n",
    "})"
   ]
  },
  {
   "cell_type": "markdown",
   "metadata": {},
   "source": [
    "berdasarkan data diatas, menunjukan terdapat 3 model terbaik berdasarkan neg-MSLE dan metrik lain diatas yaitu `Random Forest`, `XGBoost`, `LightGBM`. sedangkan 2 sisanya terpaut jauh dari ketiga model yang telah disebutkan. selanjutnya, ketiga model terbaik ini akan kita uji lagi dengan melakukan prediksi pada test set.\n",
    "\n",
    "*perlu diperhatikan disini kita masih menggunakan MSLE dan bukan RMSLE dikarenakan tidak tersedianya metrik tersebut pada fungsi sklearn saat penelitian ini dibuat, sedangkan jika ingin di lakukan secara manual menggunakan fungsi square root akan menghasilkan nilai nan karena tidak dapat melakukan perhitungan nilai negatif."
   ]
  },
  {
   "cell_type": "code",
   "execution_count": 22,
   "metadata": {},
   "outputs": [
    {
     "data": {
      "text/plain": [
       "dict_keys(['explained_variance', 'r2', 'max_error', 'neg_median_absolute_error', 'neg_mean_absolute_error', 'neg_mean_absolute_percentage_error', 'neg_mean_squared_error', 'neg_mean_squared_log_error', 'neg_root_mean_squared_error', 'neg_mean_poisson_deviance', 'neg_mean_gamma_deviance', 'accuracy', 'top_k_accuracy', 'roc_auc', 'roc_auc_ovr', 'roc_auc_ovo', 'roc_auc_ovr_weighted', 'roc_auc_ovo_weighted', 'balanced_accuracy', 'average_precision', 'neg_log_loss', 'neg_brier_score', 'adjusted_rand_score', 'rand_score', 'homogeneity_score', 'completeness_score', 'v_measure_score', 'mutual_info_score', 'adjusted_mutual_info_score', 'normalized_mutual_info_score', 'fowlkes_mallows_score', 'precision', 'precision_macro', 'precision_micro', 'precision_samples', 'precision_weighted', 'recall', 'recall_macro', 'recall_micro', 'recall_samples', 'recall_weighted', 'f1', 'f1_macro', 'f1_micro', 'f1_samples', 'f1_weighted', 'jaccard', 'jaccard_macro', 'jaccard_micro', 'jaccard_samples', 'jaccard_weighted'])"
      ]
     },
     "execution_count": 22,
     "metadata": {},
     "output_type": "execute_result"
    }
   ],
   "source": [
    "from sklearn import metrics\n",
    "\n",
    "metrics.SCORERS.keys()\n"
   ]
  },
  {
   "cell_type": "markdown",
   "metadata": {},
   "source": [
    "**Simple Modeling and Predicting with RandomForest, XGBoost, LightGBM**"
   ]
  },
  {
   "cell_type": "code",
   "execution_count": 23,
   "metadata": {},
   "outputs": [
    {
     "data": {
      "text/html": [
       "<div>\n",
       "<style scoped>\n",
       "    .dataframe tbody tr th:only-of-type {\n",
       "        vertical-align: middle;\n",
       "    }\n",
       "\n",
       "    .dataframe tbody tr th {\n",
       "        vertical-align: top;\n",
       "    }\n",
       "\n",
       "    .dataframe thead th {\n",
       "        text-align: right;\n",
       "    }\n",
       "</style>\n",
       "<table border=\"1\" class=\"dataframe\">\n",
       "  <thead>\n",
       "    <tr style=\"text-align: right;\">\n",
       "      <th></th>\n",
       "      <th>RMSE</th>\n",
       "      <th>RMSLE</th>\n",
       "      <th>MAE</th>\n",
       "      <th>MAPE</th>\n",
       "    </tr>\n",
       "  </thead>\n",
       "  <tbody>\n",
       "    <tr>\n",
       "      <th>Random Forest</th>\n",
       "      <td>159.989316</td>\n",
       "      <td>1.160036</td>\n",
       "      <td>109.834887</td>\n",
       "      <td>2.043436</td>\n",
       "    </tr>\n",
       "    <tr>\n",
       "      <th>XGB</th>\n",
       "      <td>79.931778</td>\n",
       "      <td>0.460243</td>\n",
       "      <td>47.352365</td>\n",
       "      <td>0.427581</td>\n",
       "    </tr>\n",
       "    <tr>\n",
       "      <th>LightGBM</th>\n",
       "      <td>86.048454</td>\n",
       "      <td>0.524619</td>\n",
       "      <td>52.473721</td>\n",
       "      <td>0.519813</td>\n",
       "    </tr>\n",
       "  </tbody>\n",
       "</table>\n",
       "</div>"
      ],
      "text/plain": [
       "                     RMSE     RMSLE         MAE      MAPE\n",
       "Random Forest  159.989316  1.160036  109.834887  2.043436\n",
       "XGB             79.931778  0.460243   47.352365  0.427581\n",
       "LightGBM        86.048454  0.524619   52.473721  0.519813"
      ]
     },
     "execution_count": 23,
     "metadata": {},
     "output_type": "execute_result"
    }
   ],
   "source": [
    "models = {\n",
    "    'Random Forest': lr,\n",
    "    'XGB': xgb,\n",
    "    'LightGBM': lgb\n",
    "}\n",
    "\n",
    "score_rmse = []\n",
    "score_rmsle = []\n",
    "score_mae = []\n",
    "score_mape = []\n",
    "\n",
    "# Prediksi pada test set\n",
    "for i in models:\n",
    "\n",
    "    model = Pipeline([\n",
    "        ('dates', DateTransformer()),\n",
    "        ('preprocessing', transformer),\n",
    "        ('scaler', scaler),\n",
    "        ('model', models[i])\n",
    "    ])\n",
    "\n",
    "    model.fit(X_train, y_train)\n",
    "    y_pred = model.predict(X_test)\n",
    "    \n",
    "    score_rmse.append(np.sqrt(mean_squared_error(np.expm1(y_test), np.expm1(y_pred))))\n",
    "    score_rmsle.append(np.sqrt(mean_squared_log_error(np.expm1(y_test), np.expm1(y_pred))))\n",
    "    score_mae.append(mean_absolute_error(np.expm1(y_test), np.expm1(y_pred)))\n",
    "    score_mape.append(mean_absolute_percentage_error(np.expm1(y_test), np.expm1(y_pred)))\n",
    "\n",
    "score_before_tuning = pd.DataFrame(\n",
    "    {'RMSE': score_rmse, 'RMSLE': score_rmsle, 'MAE': score_mae, 'MAPE': score_mape}, index=models.keys())\n",
    "score_before_tuning"
   ]
  },
  {
   "cell_type": "markdown",
   "metadata": {},
   "source": [
    "ketika melakukan prediksi pada test set disini terlihat bahwa dari segi RMSLE, maupun skor lain, `XGBoost` merupakan yang terbaik, model 'LightGBM' juga termasuk baik disini, tetapi karena target kita transformasi menggunakan `Logarithm Transformation` maka kita akan menggunakan skor RMSLE sebagai acuan utamanya. namun sayangnya pada saat penelitian ini dibuat berdasarkan [Dokumentasi LightGBM](https://lightgbm.readthedocs.io/en/latest/Parameters.html#metric-parameters), algoritma `LightGBM` ini tidak mempunyai metrics tersebut. oleh karena itu kita hanya akan menggunakan algoritma terbaik  berdasarkan data diatas yaitu `XGBoost` untuk kita tunning pada langkah selanjutnya.\n",
    "\n",
    "*Perlu diperhatikan, sebelumnya kita telah melakukan transformasi mengunakan logaritma pada kolom target yaitu `cnt` oleh karena itu, melakukan skoring menggunakan data tersebut merupakan hal yang kurang tepat, maka disini kita menggunakan fungsi np.expm1() yang merupakan inverse dari np.log1p() yang kita gunakan sebelumnya yang berarti dapat digunakan untuk mengembalikan nilai aslinya, dan hasilnya kita jadi dapat membandingkan skor pada nilai prediksi dan aktual dengan skala yang sebenarnya."
   ]
  },
  {
   "cell_type": "markdown",
   "metadata": {},
   "source": [
    "**Hyperparameter Tuning**\n",
    "\n",
    "Karena pada model XGBoost kita mendapatkan performa terbaik dan dapat menggunaakan metrik RMSLE, maka selanjutnya kita kan menggunakan model ini hingga akhir penelitian. pada tahap ini, kita akan mencoba meningkatkan performa model dengan melakukan hyperparameter tuning. \n",
    "\n",
    "disini kita akan melakukan hyperparameter tuning menggunakan `RandomizedSearchCV` dikarenakan kinerjanya yang sangat ringan walaupun memiliki kekurangan yaitu proses tuning dilakukan secara acak dan tidak menyeluruh seperti yang dilakukan `GridSearchCV`\n",
    "\n",
    "untuk panduan tuning untuk model XGBoost, dapat mengacu pada dokuemntasinya di [XGBoost Parameters](https://xgboost.readthedocs.io/en/stable/parameter.html)\n"
   ]
  },
  {
   "cell_type": "code",
   "execution_count": 24,
   "metadata": {},
   "outputs": [],
   "source": [
    "# Kedalaman pohon\n",
    "max_depth = list(np.arange(1, 16))\n",
    "\n",
    "# Learning rate\n",
    "# list(np.arange(0.01, 1.01, 0.01))\n",
    "learning_rate = list(np.arange(1, 100)/100)\n",
    "\n",
    "# Jumlah pohon\n",
    "n_estimators = list(np.arange(100, 201))\n",
    "\n",
    "# Jumlah baris tiap pohon (% dari total baris train set)\n",
    "subsample = list(np.arange(2, 10)/10)\n",
    "\n",
    "# Gamma (min_impurity_decrease)\n",
    "# Semakin besar nilainya, semakin konservatif/simpel modelnya\n",
    "gamma = list(np.arange(1, 11))\n",
    "\n",
    "# Jumlah feature yang digunakan untuk tiap pohon (% dari total kolom train set)\n",
    "colsample_bytree = list(np.arange(1, 10)/10)\n",
    "\n",
    "# Alpha (regularization)\n",
    "# Semakin besar nilainya, semakin konservatif/simpel modelnya\n",
    "reg_alpha = list(np.logspace(-3, 1, 10))  # [0.01, 0.1, 1, 10, 100]\n",
    "\n",
    "\n",
    "# Hyperparam space XGboost\n",
    "hyperparam_space = {\n",
    "    'model__max_depth': max_depth,\n",
    "    'model__learning_rate': learning_rate,\n",
    "    'model__n_estimators': n_estimators,\n",
    "    'model__subsample': subsample,\n",
    "    'model__gamma': gamma,\n",
    "    'model__colsample_bytree': colsample_bytree,\n",
    "    'model__reg_alpha': reg_alpha\n",
    "}\n"
   ]
  },
  {
   "cell_type": "code",
   "execution_count": 25,
   "metadata": {},
   "outputs": [],
   "source": [
    "# Benchmark model dengan hyperparameter tuning\n",
    "xgb = XGBRegressor(random_state=42, verbosity=0)\n",
    "\n",
    "# Membuat algorithm chains\n",
    "estimator_xgb = Pipeline([\n",
    "    ('dates', DateTransformer()),\n",
    "    ('preprocessing', transformer),\n",
    "    ('scaler', scaler),\n",
    "    ('model', xgb)\n",
    "])\n",
    "\n",
    "crossval = KFold(n_splits=5, shuffle=True, random_state=42)\n",
    "\n",
    "# Hyperparameter tuning\n",
    "random_search = RandomizedSearchCV(\n",
    "    estimator_xgb,\n",
    "    param_distributions=hyperparam_space,\n",
    "    n_iter=50,\n",
    "    cv=crossval,\n",
    "    scoring=['neg_root_mean_squared_error', 'neg_mean_squared_log_error', \n",
    "             'neg_mean_absolute_error','neg_mean_absolute_percentage_error'],\n",
    "    n_jobs=-1,\n",
    "    # Hanya bisa memilih salah stau metric untuk optimisasi\n",
    "    refit='neg_mean_squared_log_error',\n",
    "    random_state=42,\n",
    "    verbose=1\n",
    ")\n"
   ]
  },
  {
   "cell_type": "code",
   "execution_count": 26,
   "metadata": {},
   "outputs": [
    {
     "name": "stdout",
     "output_type": "stream",
     "text": [
      "Fitting 5 folds for each of 50 candidates, totalling 250 fits\n"
     ]
    },
    {
     "data": {
      "text/plain": [
       "RandomizedSearchCV(cv=KFold(n_splits=5, random_state=42, shuffle=True),\n",
       "                   estimator=Pipeline(steps=[('dates', DateTransformer()),\n",
       "                                             ('preprocessing',\n",
       "                                              ColumnTransformer(remainder='passthrough',\n",
       "                                                                transformers=[('One '\n",
       "                                                                               'Hot',\n",
       "                                                                               OneHotEncoder(drop='first',\n",
       "                                                                                             handle_unknown='ignore'),\n",
       "                                                                               ['season',\n",
       "                                                                                'year',\n",
       "                                                                                'weekday',\n",
       "                                                                                'weathersit',\n",
       "                                                                                'holiday']),\n",
       "                                                                              ('Binary',\n",
       "                                                                               BinaryEncoder(),\n",
       "                                                                               ['month',\n",
       "                                                                                'da...\n",
       "                                                             0.021544346900318832,\n",
       "                                                             0.05994842503189409,\n",
       "                                                             0.1668100537200059,\n",
       "                                                             0.46415888336127775,\n",
       "                                                             1.2915496650148828,\n",
       "                                                             3.593813663804626,\n",
       "                                                             10.0],\n",
       "                                        'model__subsample': [0.2, 0.3, 0.4, 0.5,\n",
       "                                                             0.6, 0.7, 0.8,\n",
       "                                                             0.9]},\n",
       "                   random_state=42, refit='neg_mean_squared_log_error',\n",
       "                   scoring=['neg_root_mean_squared_error',\n",
       "                            'neg_mean_squared_log_error',\n",
       "                            'neg_mean_absolute_error',\n",
       "                            'neg_mean_absolute_percentage_error'],\n",
       "                   verbose=1)"
      ]
     },
     "execution_count": 26,
     "metadata": {},
     "output_type": "execute_result"
    }
   ],
   "source": [
    "random_search.fit(X_train, y_train)"
   ]
  },
  {
   "cell_type": "code",
   "execution_count": 27,
   "metadata": {},
   "outputs": [
    {
     "data": {
      "text/html": [
       "<div>\n",
       "<style scoped>\n",
       "    .dataframe tbody tr th:only-of-type {\n",
       "        vertical-align: middle;\n",
       "    }\n",
       "\n",
       "    .dataframe tbody tr th {\n",
       "        vertical-align: top;\n",
       "    }\n",
       "\n",
       "    .dataframe thead th {\n",
       "        text-align: right;\n",
       "    }\n",
       "</style>\n",
       "<table border=\"1\" class=\"dataframe\">\n",
       "  <thead>\n",
       "    <tr style=\"text-align: right;\">\n",
       "      <th></th>\n",
       "      <th>mean_fit_time</th>\n",
       "      <th>std_fit_time</th>\n",
       "      <th>mean_score_time</th>\n",
       "      <th>std_score_time</th>\n",
       "      <th>param_model__subsample</th>\n",
       "      <th>param_model__reg_alpha</th>\n",
       "      <th>param_model__n_estimators</th>\n",
       "      <th>param_model__max_depth</th>\n",
       "      <th>param_model__learning_rate</th>\n",
       "      <th>param_model__gamma</th>\n",
       "      <th>...</th>\n",
       "      <th>std_test_neg_mean_absolute_error</th>\n",
       "      <th>rank_test_neg_mean_absolute_error</th>\n",
       "      <th>split0_test_neg_mean_absolute_percentage_error</th>\n",
       "      <th>split1_test_neg_mean_absolute_percentage_error</th>\n",
       "      <th>split2_test_neg_mean_absolute_percentage_error</th>\n",
       "      <th>split3_test_neg_mean_absolute_percentage_error</th>\n",
       "      <th>split4_test_neg_mean_absolute_percentage_error</th>\n",
       "      <th>mean_test_neg_mean_absolute_percentage_error</th>\n",
       "      <th>std_test_neg_mean_absolute_percentage_error</th>\n",
       "      <th>rank_test_neg_mean_absolute_percentage_error</th>\n",
       "    </tr>\n",
       "  </thead>\n",
       "  <tbody>\n",
       "    <tr>\n",
       "      <th>28</th>\n",
       "      <td>10.554282</td>\n",
       "      <td>0.084779</td>\n",
       "      <td>0.040622</td>\n",
       "      <td>0.007649</td>\n",
       "      <td>0.8</td>\n",
       "      <td>0.002783</td>\n",
       "      <td>186</td>\n",
       "      <td>11</td>\n",
       "      <td>0.32</td>\n",
       "      <td>4</td>\n",
       "      <td>...</td>\n",
       "      <td>0.014470</td>\n",
       "      <td>1</td>\n",
       "      <td>-0.102189</td>\n",
       "      <td>-0.103345</td>\n",
       "      <td>-0.105384</td>\n",
       "      <td>-0.105460</td>\n",
       "      <td>-0.093540</td>\n",
       "      <td>-0.101983</td>\n",
       "      <td>0.004401</td>\n",
       "      <td>1</td>\n",
       "    </tr>\n",
       "    <tr>\n",
       "      <th>10</th>\n",
       "      <td>3.684343</td>\n",
       "      <td>0.137426</td>\n",
       "      <td>0.049996</td>\n",
       "      <td>0.015311</td>\n",
       "      <td>0.9</td>\n",
       "      <td>0.059948</td>\n",
       "      <td>109</td>\n",
       "      <td>8</td>\n",
       "      <td>0.48</td>\n",
       "      <td>5</td>\n",
       "      <td>...</td>\n",
       "      <td>0.020955</td>\n",
       "      <td>2</td>\n",
       "      <td>-0.107854</td>\n",
       "      <td>-0.112635</td>\n",
       "      <td>-0.109338</td>\n",
       "      <td>-0.109269</td>\n",
       "      <td>-0.097667</td>\n",
       "      <td>-0.107352</td>\n",
       "      <td>0.005091</td>\n",
       "      <td>2</td>\n",
       "    </tr>\n",
       "    <tr>\n",
       "      <th>14</th>\n",
       "      <td>18.787310</td>\n",
       "      <td>0.331218</td>\n",
       "      <td>0.040620</td>\n",
       "      <td>0.007652</td>\n",
       "      <td>0.9</td>\n",
       "      <td>0.007743</td>\n",
       "      <td>164</td>\n",
       "      <td>15</td>\n",
       "      <td>0.46</td>\n",
       "      <td>10</td>\n",
       "      <td>...</td>\n",
       "      <td>0.014225</td>\n",
       "      <td>3</td>\n",
       "      <td>-0.113344</td>\n",
       "      <td>-0.114989</td>\n",
       "      <td>-0.114983</td>\n",
       "      <td>-0.110072</td>\n",
       "      <td>-0.106875</td>\n",
       "      <td>-0.112053</td>\n",
       "      <td>0.003150</td>\n",
       "      <td>3</td>\n",
       "    </tr>\n",
       "    <tr>\n",
       "      <th>0</th>\n",
       "      <td>3.516737</td>\n",
       "      <td>0.097025</td>\n",
       "      <td>0.040620</td>\n",
       "      <td>0.007655</td>\n",
       "      <td>0.8</td>\n",
       "      <td>0.002783</td>\n",
       "      <td>175</td>\n",
       "      <td>6</td>\n",
       "      <td>0.66</td>\n",
       "      <td>6</td>\n",
       "      <td>...</td>\n",
       "      <td>0.022028</td>\n",
       "      <td>4</td>\n",
       "      <td>-0.131784</td>\n",
       "      <td>-0.128729</td>\n",
       "      <td>-0.128029</td>\n",
       "      <td>-0.113759</td>\n",
       "      <td>-0.121700</td>\n",
       "      <td>-0.124800</td>\n",
       "      <td>0.006421</td>\n",
       "      <td>4</td>\n",
       "    </tr>\n",
       "    <tr>\n",
       "      <th>9</th>\n",
       "      <td>10.885545</td>\n",
       "      <td>0.472753</td>\n",
       "      <td>0.040626</td>\n",
       "      <td>0.007654</td>\n",
       "      <td>0.9</td>\n",
       "      <td>0.464159</td>\n",
       "      <td>162</td>\n",
       "      <td>12</td>\n",
       "      <td>0.14</td>\n",
       "      <td>2</td>\n",
       "      <td>...</td>\n",
       "      <td>0.034202</td>\n",
       "      <td>5</td>\n",
       "      <td>-0.136075</td>\n",
       "      <td>-0.141503</td>\n",
       "      <td>-0.127559</td>\n",
       "      <td>-0.163477</td>\n",
       "      <td>-0.143340</td>\n",
       "      <td>-0.142391</td>\n",
       "      <td>0.011885</td>\n",
       "      <td>5</td>\n",
       "    </tr>\n",
       "  </tbody>\n",
       "</table>\n",
       "<p>5 rows × 44 columns</p>\n",
       "</div>"
      ],
      "text/plain": [
       "    mean_fit_time  std_fit_time  mean_score_time  std_score_time  \\\n",
       "28      10.554282      0.084779         0.040622        0.007649   \n",
       "10       3.684343      0.137426         0.049996        0.015311   \n",
       "14      18.787310      0.331218         0.040620        0.007652   \n",
       "0        3.516737      0.097025         0.040620        0.007655   \n",
       "9       10.885545      0.472753         0.040626        0.007654   \n",
       "\n",
       "   param_model__subsample param_model__reg_alpha param_model__n_estimators  \\\n",
       "28                    0.8               0.002783                       186   \n",
       "10                    0.9               0.059948                       109   \n",
       "14                    0.9               0.007743                       164   \n",
       "0                     0.8               0.002783                       175   \n",
       "9                     0.9               0.464159                       162   \n",
       "\n",
       "   param_model__max_depth param_model__learning_rate param_model__gamma  ...  \\\n",
       "28                     11                       0.32                  4  ...   \n",
       "10                      8                       0.48                  5  ...   \n",
       "14                     15                       0.46                 10  ...   \n",
       "0                       6                       0.66                  6  ...   \n",
       "9                      12                       0.14                  2  ...   \n",
       "\n",
       "   std_test_neg_mean_absolute_error rank_test_neg_mean_absolute_error  \\\n",
       "28                         0.014470                                 1   \n",
       "10                         0.020955                                 2   \n",
       "14                         0.014225                                 3   \n",
       "0                          0.022028                                 4   \n",
       "9                          0.034202                                 5   \n",
       "\n",
       "    split0_test_neg_mean_absolute_percentage_error  \\\n",
       "28                                       -0.102189   \n",
       "10                                       -0.107854   \n",
       "14                                       -0.113344   \n",
       "0                                        -0.131784   \n",
       "9                                        -0.136075   \n",
       "\n",
       "    split1_test_neg_mean_absolute_percentage_error  \\\n",
       "28                                       -0.103345   \n",
       "10                                       -0.112635   \n",
       "14                                       -0.114989   \n",
       "0                                        -0.128729   \n",
       "9                                        -0.141503   \n",
       "\n",
       "    split2_test_neg_mean_absolute_percentage_error  \\\n",
       "28                                       -0.105384   \n",
       "10                                       -0.109338   \n",
       "14                                       -0.114983   \n",
       "0                                        -0.128029   \n",
       "9                                        -0.127559   \n",
       "\n",
       "    split3_test_neg_mean_absolute_percentage_error  \\\n",
       "28                                       -0.105460   \n",
       "10                                       -0.109269   \n",
       "14                                       -0.110072   \n",
       "0                                        -0.113759   \n",
       "9                                        -0.163477   \n",
       "\n",
       "    split4_test_neg_mean_absolute_percentage_error  \\\n",
       "28                                       -0.093540   \n",
       "10                                       -0.097667   \n",
       "14                                       -0.106875   \n",
       "0                                        -0.121700   \n",
       "9                                        -0.143340   \n",
       "\n",
       "    mean_test_neg_mean_absolute_percentage_error  \\\n",
       "28                                     -0.101983   \n",
       "10                                     -0.107352   \n",
       "14                                     -0.112053   \n",
       "0                                      -0.124800   \n",
       "9                                      -0.142391   \n",
       "\n",
       "    std_test_neg_mean_absolute_percentage_error  \\\n",
       "28                                     0.004401   \n",
       "10                                     0.005091   \n",
       "14                                     0.003150   \n",
       "0                                      0.006421   \n",
       "9                                      0.011885   \n",
       "\n",
       "    rank_test_neg_mean_absolute_percentage_error  \n",
       "28                                             1  \n",
       "10                                             2  \n",
       "14                                             3  \n",
       "0                                              4  \n",
       "9                                              5  \n",
       "\n",
       "[5 rows x 44 columns]"
      ]
     },
     "execution_count": 27,
     "metadata": {},
     "output_type": "execute_result"
    }
   ],
   "source": [
    "# Melihat hasil tuning dalam bentuk dataframe. Diurutkan berdasarkan RMSLE, MAE & MAPE\n",
    "pd.DataFrame(random_search.cv_results_).sort_values(by=['rank_test_neg_mean_squared_log_error',\n",
    "                                                     'rank_test_neg_mean_absolute_error', 'rank_test_neg_mean_absolute_percentage_error']).head()\n"
   ]
  },
  {
   "cell_type": "code",
   "execution_count": 28,
   "metadata": {},
   "outputs": [
    {
     "name": "stdout",
     "output_type": "stream",
     "text": [
      "XGBoost\n",
      "Best_score: -0.01157409004906427\n",
      "Best_params: {'model__subsample': 0.8, 'model__reg_alpha': 0.0027825594022071257, 'model__n_estimators': 186, 'model__max_depth': 11, 'model__learning_rate': 0.32, 'model__gamma': 4, 'model__colsample_bytree': 0.9}\n"
     ]
    }
   ],
   "source": [
    "# Cek skor dan params terbaik\n",
    "print('XGBoost')\n",
    "print('Best_score:', random_search.best_score_)\n",
    "print('Best_params:', random_search.best_params_)"
   ]
  },
  {
   "cell_type": "markdown",
   "metadata": {},
   "source": [
    "**Tunned Modeling and Predicting with XGBoost**\n",
    "\n",
    "Tahap ini melakukan proses fitting ulang menggunaakn parameter terbaik yang didapat dari tahap tuning sebelumnya, lalu melakukan prediksi pada test set."
   ]
  },
  {
   "cell_type": "code",
   "execution_count": 29,
   "metadata": {},
   "outputs": [],
   "source": [
    "# Model XGBoost\n",
    "model = {'XGB': XGBRegressor(random_state=42)}\n",
    "\n",
    "# Define model terhadap estimator terbaik\n",
    "xgb_tuning = random_search.best_estimator_\n",
    "\n",
    "# Fitting model\n",
    "xgb_tuning.fit(X_train, y_train)\n",
    "\n",
    "# Predict test set\n",
    "y_pred_xgb_tuning = xgb_tuning.predict(X_test)\n",
    "\n",
    "# Simpan nilai metrics RMSE, RMSLE, MAE & MAPE setelah tuning\n",
    "rmse_xgb_tuning = np.sqrt(mean_squared_error(np.expm1(y_test), np.expm1(y_pred_xgb_tuning)))\n",
    "rmsle_xgb_tuning = np.sqrt(mean_squared_log_error(np.expm1(y_test), np.expm1(y_pred_xgb_tuning)))\n",
    "mae_xgb_tuning = mean_absolute_error(np.expm1(y_test), np.expm1(y_pred_xgb_tuning))\n",
    "mape_xgb_tuning = mean_absolute_percentage_error(np.expm1(y_test), np.expm1(y_pred_xgb_tuning))"
   ]
  },
  {
   "cell_type": "markdown",
   "metadata": {},
   "source": [
    "**Performance Comparison**"
   ]
  },
  {
   "cell_type": "code",
   "execution_count": 30,
   "metadata": {},
   "outputs": [
    {
     "data": {
      "text/html": [
       "<div>\n",
       "<style scoped>\n",
       "    .dataframe tbody tr th:only-of-type {\n",
       "        vertical-align: middle;\n",
       "    }\n",
       "\n",
       "    .dataframe tbody tr th {\n",
       "        vertical-align: top;\n",
       "    }\n",
       "\n",
       "    .dataframe thead th {\n",
       "        text-align: right;\n",
       "    }\n",
       "</style>\n",
       "<table border=\"1\" class=\"dataframe\">\n",
       "  <thead>\n",
       "    <tr style=\"text-align: right;\">\n",
       "      <th></th>\n",
       "      <th>RMSE</th>\n",
       "      <th>RMSLE</th>\n",
       "      <th>MAE</th>\n",
       "      <th>MAPE</th>\n",
       "    </tr>\n",
       "  </thead>\n",
       "  <tbody>\n",
       "    <tr>\n",
       "      <th>XGB Before Tuning</th>\n",
       "      <td>79.931778</td>\n",
       "      <td>0.460243</td>\n",
       "      <td>47.352365</td>\n",
       "      <td>0.427581</td>\n",
       "    </tr>\n",
       "    <tr>\n",
       "      <th>XGB After Tuning</th>\n",
       "      <td>77.962755</td>\n",
       "      <td>0.471320</td>\n",
       "      <td>47.121819</td>\n",
       "      <td>0.437451</td>\n",
       "    </tr>\n",
       "  </tbody>\n",
       "</table>\n",
       "</div>"
      ],
      "text/plain": [
       "                        RMSE     RMSLE        MAE      MAPE\n",
       "XGB Before Tuning  79.931778  0.460243  47.352365  0.427581\n",
       "XGB After Tuning   77.962755  0.471320  47.121819  0.437451"
      ]
     },
     "execution_count": 30,
     "metadata": {},
     "output_type": "execute_result"
    }
   ],
   "source": [
    "final_score = {'XGB Before Tuning': {'RMSE': score_before_tuning.loc['XGB']['RMSE'],\n",
    "                              'RMSLE': score_before_tuning.loc['XGB']['RMSLE'],\n",
    "                              'MAE': score_before_tuning.loc['XGB']['MAE'],\n",
    "                              'MAPE': score_before_tuning.loc['XGB']['MAPE']},\n",
    "               'XGB After Tuning': {'RMSE': rmse_xgb_tuning, 'RMSLE': rmsle_xgb_tuning, \n",
    "                                    'MAE': mae_xgb_tuning, 'MAPE': mape_xgb_tuning},}\n",
    "pd.DataFrame(final_score).T"
   ]
  },
  {
   "cell_type": "markdown",
   "metadata": {},
   "source": [
    "Terlihat bahwa skor RMSE dan MAE mengalami sedikit kenaikan namun untuk RMSLE dan MAPE malah mengalami sangat sedikit penurunan setelah melakukan hyperparameter tuning"
   ]
  },
  {
   "cell_type": "code",
   "execution_count": 31,
   "metadata": {},
   "outputs": [
    {
     "data": {
      "image/png": "[encoded data removed]",
      "text/plain": [
       "<Figure size 864x504 with 1 Axes>"
      ]
     },
     "metadata": {
      "needs_background": "light"
     },
     "output_type": "display_data"
    },
    {
     "data": {
      "image/png": "[encoded data removed]",
      "text/plain": [
       "<Figure size 864x504 with 1 Axes>"
      ]
     },
     "metadata": {
      "needs_background": "light"
     },
     "output_type": "display_data"
    }
   ],
   "source": [
    "plt.figure(figsize=(12, 7))\n",
    "plot = sns.scatterplot(x=np.expm1(y_test), y=np.expm1(y_pred)).set(title='Actual vs. Prediction Price Before Tuning',\n",
    "                                                                   xlabel='Actual Bike Use',\n",
    "                                                                   ylabel='Predicted Bike Use')\n",
    "plt.show()\n",
    "\n",
    "plt.figure(figsize=(12, 7))\n",
    "plot = sns.scatterplot(x=np.expm1(y_test), y=np.expm1(y_pred_xgb_tuning)).set(title='Actual vs. Prediction Price After Tuning',\n",
    "                                                          xlabel='Actual Bike Use',\n",
    "                                                          ylabel='Predicted Bike Use')\n",
    "plt.show()\n",
    "\n"
   ]
  },
  {
   "cell_type": "markdown",
   "metadata": {},
   "source": [
    "berdasarkan kedua grafik diatas, terlihat bahwa semakin besar nilainya maka semakin besar juga kemungkinan terjadi error, dimana ini merupakan suatu limitasi dari dataset yang kita gunakan yang hanya berjumlah sekitar 12 ribu saja. data kebanyakan tersebar di sejumlah kecil sepeda yang digunakan, hanya sedikit kondisi dimana sepeda sangat banyak digunakan, hal ini membuat model gagal memprediksi dengan baik kondisi tersebut dimana sepeda banyak digunakan."
   ]
  },
  {
   "cell_type": "markdown",
   "metadata": {},
   "source": [
    "**Feature Importances**\n",
    "\n",
    "Untuk dapat mengetahui fitur apa saja yang paling memengaruhi target, kita dapat mengeceknya menggunakan function feature_importances_."
   ]
  },
  {
   "cell_type": "code",
   "execution_count": 32,
   "metadata": {},
   "outputs": [],
   "source": [
    "estimator_xgb = Pipeline([('dates', DateTransformer()),\n",
    "                        ('preprocessing', transformer),\n",
    "                        ('scaler', scaler),\n",
    "                        ('model', xgb)\n",
    "                    ])\n",
    "\n",
    "estimator_xgb.fit(X_train, y_train);"
   ]
  },
  {
   "cell_type": "code",
   "execution_count": 33,
   "metadata": {},
   "outputs": [
    {
     "data": {
      "image/png": "[encoded data removed]",
      "text/plain": [
       "<Figure size 432x288 with 1 Axes>"
      ]
     },
     "metadata": {
      "needs_background": "light"
     },
     "output_type": "display_data"
    },
    {
     "data": {
      "image/png": "[encoded data removed]",
      "text/plain": [
       "<Figure size 432x288 with 1 Axes>"
      ]
     },
     "metadata": {
      "needs_background": "light"
     },
     "output_type": "display_data"
    }
   ],
   "source": [
    "\n",
    "feature_imp_before = pd.Series(estimator_xgb['model'].feature_importances_, transformer.get_feature_names()).sort_values(ascending = False).head()\n",
    "feature_imp_after = pd.Series(xgb_tuning['model'].feature_importances_, transformer.get_feature_names()).sort_values(ascending = False).head()\n",
    "\n",
    "\n",
    "feature_imp_before.plot(kind='barh', title='Feature Importances Before Tuning');\n",
    "plt.show()\n",
    "feature_imp_after.plot(kind='barh', title='Feature Importances After Tuning');\n",
    "plt.show()"
   ]
  },
  {
   "cell_type": "markdown",
   "metadata": {},
   "source": [
    "**Predicted Vs Actual Value**\n",
    "\n",
    "pada tahap ini kita ingin membandingkan nilai aktual dengan hasil prediksi menggunakan model sebelum dituning dan setelah dituning "
   ]
  },
  {
   "cell_type": "code",
   "execution_count": 34,
   "metadata": {},
   "outputs": [
    {
     "data": {
      "text/html": [
       "<div>\n",
       "<style scoped>\n",
       "    .dataframe tbody tr th:only-of-type {\n",
       "        vertical-align: middle;\n",
       "    }\n",
       "\n",
       "    .dataframe tbody tr th {\n",
       "        vertical-align: top;\n",
       "    }\n",
       "\n",
       "    .dataframe thead th {\n",
       "        text-align: right;\n",
       "    }\n",
       "</style>\n",
       "<table border=\"1\" class=\"dataframe\">\n",
       "  <thead>\n",
       "    <tr style=\"text-align: right;\">\n",
       "      <th></th>\n",
       "      <th>prediction</th>\n",
       "      <th>tunned prediction</th>\n",
       "      <th>actual</th>\n",
       "    </tr>\n",
       "  </thead>\n",
       "  <tbody>\n",
       "    <tr>\n",
       "      <th>1958</th>\n",
       "      <td>459.079002</td>\n",
       "      <td>537.781189</td>\n",
       "      <td>481.0</td>\n",
       "    </tr>\n",
       "    <tr>\n",
       "      <th>10536</th>\n",
       "      <td>297.803294</td>\n",
       "      <td>383.620331</td>\n",
       "      <td>404.0</td>\n",
       "    </tr>\n",
       "    <tr>\n",
       "      <th>7010</th>\n",
       "      <td>202.372078</td>\n",
       "      <td>180.067459</td>\n",
       "      <td>180.0</td>\n",
       "    </tr>\n",
       "    <tr>\n",
       "      <th>4133</th>\n",
       "      <td>2.263715</td>\n",
       "      <td>2.085660</td>\n",
       "      <td>3.0</td>\n",
       "    </tr>\n",
       "    <tr>\n",
       "      <th>364</th>\n",
       "      <td>24.349680</td>\n",
       "      <td>17.618425</td>\n",
       "      <td>11.0</td>\n",
       "    </tr>\n",
       "    <tr>\n",
       "      <th>...</th>\n",
       "      <td>...</td>\n",
       "      <td>...</td>\n",
       "      <td>...</td>\n",
       "    </tr>\n",
       "    <tr>\n",
       "      <th>6385</th>\n",
       "      <td>133.145289</td>\n",
       "      <td>116.269012</td>\n",
       "      <td>92.0</td>\n",
       "    </tr>\n",
       "    <tr>\n",
       "      <th>5492</th>\n",
       "      <td>17.275450</td>\n",
       "      <td>23.406687</td>\n",
       "      <td>18.0</td>\n",
       "    </tr>\n",
       "    <tr>\n",
       "      <th>3910</th>\n",
       "      <td>163.898831</td>\n",
       "      <td>115.481438</td>\n",
       "      <td>243.0</td>\n",
       "    </tr>\n",
       "    <tr>\n",
       "      <th>8730</th>\n",
       "      <td>74.891492</td>\n",
       "      <td>71.289940</td>\n",
       "      <td>37.0</td>\n",
       "    </tr>\n",
       "    <tr>\n",
       "      <th>7817</th>\n",
       "      <td>135.228278</td>\n",
       "      <td>129.291443</td>\n",
       "      <td>93.0</td>\n",
       "    </tr>\n",
       "  </tbody>\n",
       "</table>\n",
       "<p>2400 rows × 3 columns</p>\n",
       "</div>"
      ],
      "text/plain": [
       "       prediction  tunned prediction  actual\n",
       "1958   459.079002         537.781189   481.0\n",
       "10536  297.803294         383.620331   404.0\n",
       "7010   202.372078         180.067459   180.0\n",
       "4133     2.263715           2.085660     3.0\n",
       "364     24.349680          17.618425    11.0\n",
       "...           ...                ...     ...\n",
       "6385   133.145289         116.269012    92.0\n",
       "5492    17.275450          23.406687    18.0\n",
       "3910   163.898831         115.481438   243.0\n",
       "8730    74.891492          71.289940    37.0\n",
       "7817   135.228278         129.291443    93.0\n",
       "\n",
       "[2400 rows x 3 columns]"
      ]
     },
     "execution_count": 34,
     "metadata": {},
     "output_type": "execute_result"
    }
   ],
   "source": [
    "# Because of model programmed with log, then we neet to change back the prediction to real value with np.expm1()\n",
    "pred_tuned = np.expm1(y_pred_xgb_tuning)\n",
    "pred = np.expm1(y_pred)\n",
    "actual = np.expm1(y_test) \n",
    "\n",
    "validation = pd.DataFrame({'prediction': pred, 'tunned prediction': pred_tuned, 'actual': actual})\n",
    "validation\n"
   ]
  },
  {
   "cell_type": "markdown",
   "metadata": {},
   "source": [
    "### **Conclusion**\n",
    "---"
   ]
  },
  {
   "cell_type": "markdown",
   "metadata": {},
   "source": [
    "Berdasarkan pemodelan yang telah kita lakukan dapat disimpulkan bahwa model yang kita gunakan memiliki kecenderungan semakin tinggi nilainya maka akan semakin menyebar, hal ini memungkinkan karena terdapat limitasi pada dataset yang memiliki kecenderungan serupa.\n",
    "\n",
    "Dari segi fitur yang paling berpengaruh untuk model sebelum tuning masing-masing adalah `hr`, dan `workingday`, sedangkan pada model setelah tuning memiliki fitur yang paling berpengaruh yang berbeda yaitu `hr`, `temp`, dan `atemp`.\n",
    "\n",
    "Berdasarkan metrik yang digunakan pada penelitian ini yaitu RMSE, RMSLE, MAE, dan MAPE. jika dilihat dari hasilnya, nilai RMSE setelah tuning memiliki skor yang lebih baik hal ini membuat prediksi yang di dapat semakin akurat berdasarkan rataannya, tetapi jika disandingkan dengan RMSLE nilai yang dihasilkan sebelum melakukan hyperparameter tuning mempunyai RMSE sebesar 79.9, dengan RMSLE sebesar 0.460, sedangkan untuk nilai setelah melakukan hyperparameter tunning mempunyai RMSE sebesar 77.96, dengan RMSLE sebesar 0.47. eror yang dihasilkan RMSLE pada model sebelum tuning justru lebih kecil dengan RMSE nya yang justru lebih besar, hal ini terjadi karena RMSLE merupakan suatu rasio dimana ketika persebaran yang ada lebih besar maka metrik malah akan membuat erornya lebih kecil, hal ini berguna jika kita ingin menyamaratakan prediksi yang menghasilkan nilai terlalu tinggi atau terlalu rendah. metrik RMSLE cukup tepat digunakan pada kasus persediaan yang biasanya memang terjadi perbedaan pada tiap kondisi dan lokasi.\n",
    "\n",
    "untuk MAE dan MAPE sendiri mirip seperti RMSE dan RMSLE, untuk perbedaannya MAE mengambil nilai absolutnya, sedangkan RMSE mengambil nilai kudaratiknya. untuk MAPE sendiri dihasilkan dari presentase nilai eror yang dihasilkan dari MAE."
   ]
  },
  {
   "cell_type": "markdown",
   "metadata": {},
   "source": [
    "### **Recommendation**\n",
    "---"
   ]
  },
  {
   "cell_type": "markdown",
   "metadata": {},
   "source": [
    "Untuk mengembangkan model agar dapat menjadi lebih baik lagi dapat dilakukan hal-hal berikut ini:\n",
    "1. Mengecek performa pada model lain yang tidak kita gunakan saat ini seperti Ridge, Lasso, ataupun yang lebih kompleks seperti Neural Network, dll. hal ini dapat meningkatkan kemungkinan adanya model yang berpotensi menjadi lebih baik lagi. terutama pada model LightGBM yang tidak jadi dipakai karena masalah kompatibilitas, bisa dibuatkan fungsi untuk pengecekan performa model agar dapat mengeluarkan metrik dari RMSLE yang telah kita jadikan acuan utama pada penelitian ini.\n",
    "\n",
    "1. Lakukan penambahan fitur yang mungkin akan mempunyai korelasi tinggi terhadap target, misalkan seperti lokasi, kecepatan angin, perkiraan cuaca beberapa waktu kedepan, lama sepeda digunakan, dll. jika memungkinkan, lakukan penambahan data secara signifikan dengan mungkin memasukan data dari wilayan lain yang tidak tercakup pada data yang kita gunakan, hal ini perlu dilakukan untuk menambah keakuratan model yang dihasilkan.\n",
    "\n",
    "1. Optimalkan parameter yang digunakan pada hyperparameter tuning, seperti yang telah diteliti sebelumnya bahwa hyperparameter tuning yang kita lakukan malah membuat performa model menurun, hal ini terjadi karena adanya limitasi pada pengetahuan yang dimiliki sehingga parameter yang digunakan hanya berdasarkan 'trial and error', diharapkan kedepannya dapat meningkatkan pengetahuannya pada hal tersebut.\n",
    "\n",
    "1. Dataset yang digunakan memungkinkan kita untuk melakukan 'anomaly detection', yaitu melakukan pendeteksian jika terjadi hal diluar kebiasaan, misal seperti jam 1 malam yang seharusnya hanya sedikit atau mungkin tidak ada sama sekali yang menyewa sepeda namun yang terjadi saat itu adalah sebaliknya, sepeda yang disewa pada saat itu malah sangat tinggi yang mungkin disebabkan oleh faktor eksternal seperti misalnya adanya konser ataupun acara besar lainnya didekat lokasi penyewaan sepeda pada waktu tersebut, hal ini membuat sistem mendeteksi adanya kebiasaan yang tidak wajar, fungsinya sendiri karena penyewaan sepeda ini dilakukan secara online dan terintegrasi maka penyedia penyewaan sepeda dapat secara cepat melakukan distribusi pada area tersebut jika memungkinkan."
   ]
  },
  {
   "cell_type": "markdown",
   "metadata": {},
   "source": [
    "### **Save, Load, Predict Model with Pickle**\n",
    "---"
   ]
  },
  {
   "cell_type": "markdown",
   "metadata": {},
   "source": [
    "**Save Model**"
   ]
  },
  {
   "cell_type": "markdown",
   "metadata": {},
   "source": [
    "Untuk model akhir yang digunakan adalah model hasil setelah tuning karena memiliki RMSE yang lebih kecil walaupun dengan RMSLE yang lebih besar, hal ini dikarenakan asumsi sebelumnya yang menyatakan RSMLE baik digunakan untuk menyamaratakan hasil prediksi yang nilainya jauh berbeda dan tepat digunakan pada model yang mempunyai banyak perbedaan karena suatu alasan misal perbedaan kebiasaan di negara berbeda dan lainnya, sedangkan data yang kita gunakan hanya bertempat di satu lokasi dengan hanya melihat kondisi dan waktunya saja."
   ]
  },
  {
   "cell_type": "code",
   "execution_count": 35,
   "metadata": {},
   "outputs": [],
   "source": [
    "filename = 'Model_BikeSharing_XGB.sav'\n",
    "\n",
    "# Jika menggunakan model sebelum tuning\n",
    "# estimator = Pipeline([('dates', DateTransformer()),\n",
    "#                       ('preprocessing', transformer),\n",
    "#                       ('scaler', scaler),\n",
    "#                       ('model', xgb)])\n",
    "# estimator.fit(X_train, y_train)\n",
    "# pickle.dump(estimator, open(filename, 'wb'))\n",
    "\n",
    "# Jika Menggunakan Model Setelah di Tuning\n",
    "pickle.dump(xgb_tuning, open(filename, 'wb'))"
   ]
  },
  {
   "cell_type": "markdown",
   "metadata": {},
   "source": [
    "**Load Model**"
   ]
  },
  {
   "cell_type": "code",
   "execution_count": null,
   "metadata": {},
   "outputs": [],
   "source": [
    "# Don't forget to run libraries section\n",
    "loaded_model = pickle.load(open(filename, 'rb'))"
   ]
  },
  {
   "cell_type": "markdown",
   "metadata": {},
   "source": [
    "**Predict New Data**"
   ]
  },
  {
   "cell_type": "code",
   "execution_count": null,
   "metadata": {},
   "outputs": [],
   "source": [
    "# Read New Dataset\n",
    "# test = pd.read_csv()"
   ]
  },
  {
   "cell_type": "code",
   "execution_count": null,
   "metadata": {},
   "outputs": [],
   "source": [
    "# USE THIS ONLY IF WANT TO MEASURE ERROR WITH LOGARITHM TRANSFORMATION ON CNT FEATURE\n",
    "# NOT RECOMMENDED, BECAUSE IT WILL MEASURE WITHOUT THE ACTUAL VALUE\n",
    "# test['cnt'] = test['cnt'].apply(lambda x: np.log1p(x)) \n",
    "\n",
    "X_new = test.drop(['cnt'], axis=1)\n",
    "y_new = test['cnt']"
   ]
  },
  {
   "cell_type": "code",
   "execution_count": null,
   "metadata": {},
   "outputs": [],
   "source": [
    "y_pred_test = loaded_model.predict(X_new)\n",
    "\n",
    "def new_model(scoring):\n",
    "    return scoring(y_new, np.expm1(y_pred_test)) # IF NOT USE LOGARITHN TRANSFORMATION\n",
    "    # return scoring(y_new, y_pred_test) # IF USE LOGARITHM TRANSFORMATION\n"
   ]
  },
  {
   "cell_type": "code",
   "execution_count": null,
   "metadata": {},
   "outputs": [],
   "source": [
    "print('RMSLE:', np.sqrt(new_model(mean_squared_log_error)))\n",
    "print('MAE:', new_model(mean_absolute_error))\n",
    "print('MAPE:', new_model(mean_absolute_percentage_error))"
   ]
  },
  {
   "cell_type": "code",
   "execution_count": null,
   "metadata": {},
   "outputs": [],
   "source": [
    "# Because of model programmed with log, then we neet to change back the prediction to real value with np.expm1()\n",
    "pred_test = np.expm1(y_pred_test) \n",
    "actual_test = y_new  # IF NOT USE LOGARITHM TRANSFORMATION\n",
    "# actual_test = np.expm1(y_new)  # IF USE LOGARITHM TRANSFORMATION\n",
    "\n",
    "prediction = pd.DataFrame({'prediction': pred_test, 'actual': actual_test})\n",
    "\n",
    "prediction['prediction'] = prediction.apply(lambda x: 1 if (x['prediction'] <= 0) else x['prediction'], axis=1)\n",
    "# prediction.to_csv(\"prediction.csv\", index=False)\n",
    "\n",
    "prediction\n"
   ]
  }
 ],
 "metadata": {
  "interpreter": {
   "hash": "5294d7ba68cfa59cd3a94a139d76e7f1c79534bbcd875ba49e2f30f535f55ba1"
  },
  "kernelspec": {
   "display_name": "Python 3 (ipykernel)",
   "language": "python",
   "name": "python3"
  },
  "language_info": {
   "codemirror_mode": {
    "name": "ipython",
    "version": 3
   },
   "file_extension": ".py",
   "mimetype": "text/x-python",
   "name": "python",
   "nbconvert_exporter": "python",
   "pygments_lexer": "ipython3",
   "version": "3.9.12"
  }
 },
 "nbformat": 4,
 "nbformat_minor": 2
}
